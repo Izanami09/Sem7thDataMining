{
 "cells": [
  {
   "cell_type": "code",
   "execution_count": 2,
   "id": "569e4ed3",
   "metadata": {},
   "outputs": [],
   "source": [
    "import numpy as np\n",
    "import pandas as pd"
   ]
  },
  {
   "cell_type": "markdown",
   "id": "8ff48695",
   "metadata": {},
   "source": [
    "## Creating NumPy Arrays:\n",
    "* Create a 1D NumPy array with 10 elements, containing the numbers from 1 to 10.\n",
    "* Create a 2D NumPy array of shape (3, 4) filled with ones.\n",
    "* Create a 3x3 identity matrix using NumPy."
   ]
  },
  {
   "cell_type": "code",
   "execution_count": null,
   "id": "054bc44d",
   "metadata": {},
   "outputs": [],
   "source": [
    "a1D = np.array([1, 2, 3, 4, 5, 6, 7, 8, 9, 10])\n",
    "a1Dcf = np.arange(1,11) #cf = using creation function"
   ]
  },
  {
   "cell_type": "code",
   "execution_count": 8,
   "id": "f4a54127",
   "metadata": {},
   "outputs": [
    {
     "name": "stdout",
     "output_type": "stream",
     "text": [
      "[ 1  2  3  4  5  6  7  8  9 10]\n",
      "[ 1  2  3  4  5  6  7  8  9 10]\n"
     ]
    }
   ],
   "source": [
    "print(a1D)\n",
    "print(a1Dcf)"
   ]
  },
  {
   "cell_type": "code",
   "execution_count": 43,
   "id": "f15a580f",
   "metadata": {},
   "outputs": [],
   "source": [
    "a2D = np.array([[1, 1, 1, 1], [1,1,1,1], [1,1,1,1]])\n",
    "a2Dcf = np.ones((3,4), dtype=int)"
   ]
  },
  {
   "cell_type": "code",
   "execution_count": 44,
   "id": "51704fdc",
   "metadata": {},
   "outputs": [
    {
     "name": "stdout",
     "output_type": "stream",
     "text": [
      "[[1 1 1 1]\n",
      " [1 1 1 1]\n",
      " [1 1 1 1]]\n",
      "[[1 1 1 1]\n",
      " [1 1 1 1]\n",
      " [1 1 1 1]]\n"
     ]
    }
   ],
   "source": [
    "print(a2D)\n",
    "print(a2Dcf)"
   ]
  },
  {
   "cell_type": "code",
   "execution_count": null,
   "id": "df1876b9",
   "metadata": {},
   "outputs": [
    {
     "name": "stdout",
     "output_type": "stream",
     "text": [
      "[[1 0 0]\n",
      " [0 1 0]\n",
      " [0 0 1]]\n",
      "[[1 0 0]\n",
      " [0 1 0]\n",
      " [0 0 1]]\n",
      "[[1 0 0]\n",
      " [0 1 0]\n",
      " [0 0 1]]\n"
     ]
    }
   ],
   "source": [
    "identityMatrix = np.array([[1,0,0],[0,1,0],[0,0,1]])\n",
    "iMCf = np.eye(3, dtype=int)\n",
    "iMCfD = np.diag([1,1,1]) \n",
    "print(identityMatrix)\n",
    "print(iMCf)\n",
    "print(iMCfD)\n"
   ]
  },
  {
   "cell_type": "markdown",
   "id": "01258b26",
   "metadata": {},
   "source": [
    "## Array Operations:\n",
    "* Add 5 to each element in a 1D NumPy array: [1, 2, 3, 4, 5].\n",
    "* Multiply each element in a 1D NumPy array: [2, 4, 6, 8, 10] by 2.\n",
    "* Subtract 3 from each element in a NumPy array: [6, 8, 10, 12, 14]."
   ]
  },
  {
   "cell_type": "code",
   "execution_count": 16,
   "id": "ebaee022",
   "metadata": {},
   "outputs": [
    {
     "name": "stdout",
     "output_type": "stream",
     "text": [
      "[1 2 3 4 5]\n",
      "Rsult when 5 is added : \n",
      "[ 6  7  8  9 10]\n"
     ]
    }
   ],
   "source": [
    "arr1 = np.arange(1,6)\n",
    "result = np.add(arr1, 5)\n",
    "print(arr1)\n",
    "print(\"Rsult when 5 is added : \")\n",
    "print(result)"
   ]
  },
  {
   "cell_type": "code",
   "execution_count": 20,
   "id": "f882743b",
   "metadata": {},
   "outputs": [
    {
     "name": "stdout",
     "output_type": "stream",
     "text": [
      "[ 2  4  6  8 10]\n",
      "Result when multiplied by 2\n",
      "[ 4  8 12 16 20]\n"
     ]
    }
   ],
   "source": [
    "arr2 = np.arange(2,12,2)\n",
    "print(arr2)\n",
    "result2 = np.multiply(arr2, 2)\n",
    "print(\"Result when multiplied by 2\")\n",
    "print(result2)"
   ]
  },
  {
   "cell_type": "code",
   "execution_count": 22,
   "id": "10942b49",
   "metadata": {},
   "outputs": [
    {
     "name": "stdout",
     "output_type": "stream",
     "text": [
      "[ 6  8 10 12 14]\n",
      "Result when subtracted by 3\n",
      "[ 3  5  7  9 11]\n"
     ]
    }
   ],
   "source": [
    "arr3 = np.arange(6,16,2)\n",
    "print(arr3)\n",
    "result2 = np.subtract(arr3, 3)\n",
    "print(\"Result when subtracted by 3\")\n",
    "print(result2)"
   ]
  },
  {
   "cell_type": "markdown",
   "id": "61801c07",
   "metadata": {},
   "source": [
    "### Indexing and Slicing:\n",
    "- Given a 1D array arr = np.array([10, 20, 30, 40, 50]), access the third \n",
    "element.\n",
    "- Slice a 1D array to get the first 3 elements.\n",
    "- Given a 2D array, extract the element from the second row and third column."
   ]
  },
  {
   "cell_type": "code",
   "execution_count": 36,
   "id": "44b33518",
   "metadata": {},
   "outputs": [
    {
     "name": "stdout",
     "output_type": "stream",
     "text": [
      "[10 20 30 40 50]\n",
      "The third elemet is 30\n",
      "The first theree elements are [10 20 30]\n",
      "[[11 12 13]\n",
      " [21 22 23]\n",
      " [31 32 33]]\n",
      "The element from 2nd row and 3rd column is 23\n"
     ]
    }
   ],
   "source": [
    "npArr = np.arange(10, 60, 10)\n",
    "print(npArr)\n",
    "print(f\"The third elemet is {npArr[2]}\")\n",
    "print(f\"The first theree elements are {npArr[:3]}\")\n",
    "np2Arr = np.array([\n",
    "    [11, 12, 13],\n",
    "    [21, 22, 23],\n",
    "    [31, 32, 33]\n",
    "])\n",
    "print(np2Arr)\n",
    "print(f\"The element from 2nd row and 3rd column is {np2Arr[1, 2]}\")"
   ]
  },
  {
   "cell_type": "markdown",
   "id": "4b72f37f",
   "metadata": {},
   "source": [
    "# Array Statistics:\n",
    "- Find the minimum and maximum value in a NumPy array: arr = np.array([2, 4, 6,\n",
    "8, 10]).\n",
    "- Calculate the sum and mean of the array: arr = np.array([3, 5, 7, 9])."
   ]
  },
  {
   "cell_type": "code",
   "execution_count": 47,
   "id": "2a7b2073",
   "metadata": {},
   "outputs": [
    {
     "name": "stdout",
     "output_type": "stream",
     "text": [
      "The maximum value of this array is 10\n",
      "The minimum value is 2\n",
      "The sum of this array is 30\n",
      "The mean of this array is 6.0\n"
     ]
    }
   ],
   "source": [
    "sArr = np.array([2, 4, 6,8, 10])\n",
    "print(f\"The maximum value of this array is {np.max(sArr)}\")\n",
    "print(f\"The minimum value is {np.min(sArr)}\")\n",
    "print(f\"The sum of this array is {np.sum(sArr)}\")\n",
    "print(f\"The mean of this array is {np.mean(sArr)}\")"
   ]
  },
  {
   "cell_type": "markdown",
   "id": "507e7bc4",
   "metadata": {},
   "source": [
    "## Reshaping and Flattening:\n",
    "- Reshape a 1D array arr = np.array([1, 2, 3, 4, 5, 6]) into a 2D array of shape\n",
    "(2, 3).\n",
    "- Flatten a 2D array arr = np.array([[1, 2, 3], [4, 5, 6]]) into a 1D array."
   ]
  },
  {
   "cell_type": "code",
   "execution_count": 52,
   "id": "b249f3c5",
   "metadata": {},
   "outputs": [
    {
     "name": "stdout",
     "output_type": "stream",
     "text": [
      "[1 2 3 4 5 6]\n",
      "The new reshaped 2D array is [[1 2 3]\n",
      " [4 5 6]]\n",
      "[[1 2 3]\n",
      " [4 5 6]]\n",
      "The flattern array is [1 2 3 4 5 6]\n"
     ]
    }
   ],
   "source": [
    "reArr = np.array([1, 2, 3, 4, 5, 6])\n",
    "newReArr = reArr.reshape(2,3)\n",
    "print(reArr)\n",
    "print(f\"The new reshaped 2D array is {newReArr}\")\n",
    "unRearr = np.array([[1, 2, 3], [4, 5, 6]])\n",
    "flatArr = unRearr.flatten()\n",
    "print(unRearr)\n",
    "print(f\"The flattern array is {flatArr}\")\n"
   ]
  },
  {
   "cell_type": "markdown",
   "id": "fbf53059",
   "metadata": {},
   "source": [
    "### Array Stacking:\n",
    " - Stack two 1D arrays [1, 2, 3] and [4, 5, 6] vertically and horizontally."
   ]
  },
  {
   "cell_type": "code",
   "execution_count": 55,
   "id": "67a2a6fc",
   "metadata": {},
   "outputs": [
    {
     "name": "stdout",
     "output_type": "stream",
     "text": [
      "Horizontal Stakc is [1 2 3 4 5 6]\n",
      "Verical Stack is [[1 2 3]\n",
      " [4 5 6]]\n"
     ]
    }
   ],
   "source": [
    "oneArr = [1,2,3]\n",
    "twoArr = [4,5,6]\n",
    "horArr = np.hstack((oneArr, twoArr))\n",
    "verArr = np.vstack((oneArr, twoArr))\n",
    "print(f\"Horizontal Stakc is {horArr}\")\n",
    "print(f\"Verical Stack is {verArr}\")"
   ]
  },
  {
   "cell_type": "markdown",
   "id": "c26878b3",
   "metadata": {},
   "source": [
    "## Mathematical Operations:\n",
    "- Perform element-wise addition and subtraction on two arrays: arr1 = np.array([2, 4,\n",
    "6]) and arr2 = np.array([1, 3, 5]).\n",
    "- Perform element-wise multiplication and division on two arrays: arr1 = np.array([2, \n",
    "4, 6]) and arr2 = np.array([1, 2, 3])."
   ]
  },
  {
   "cell_type": "code",
   "execution_count": null,
   "id": "0c076df8",
   "metadata": {},
   "outputs": [
    {
     "name": "stdout",
     "output_type": "stream",
     "text": [
      "The result of addition is [ 3  7 11]\n",
      "The result of division is [2.         1.33333333 1.2       ]\n",
      "The result of multiplication is [ 2 12 30]\n"
     ]
    }
   ],
   "source": [
    "arr1 = np.array([2,4,6])\n",
    "arr2 = np.array([1,3,5])\n",
    "addResult = np.add(arr1, arr2)\n",
    "print(f\"The result of addition is {addResult}\")\n",
    "print(f\"The result of division is {np.divide(arr1, arr2)}\")\n",
    "print(f\"The result of multiplication is {np.multiply(arr1, arr2)}\")"
   ]
  },
  {
   "cell_type": "markdown",
   "id": "471d5fb2",
   "metadata": {},
   "source": [
    "## Linear Algebra:\n",
    "- Calculate the dot product of two 1D arrays: arr1 = np.array([1, 2]) and arr2 = \n",
    "np.array([3, 4]).\n",
    "- Multiply two matrices using np.dot(). Given matrices A = np.array([[1, 2], [3,\n",
    "4]]) and B = np.array([[5, 6], [7, 8]]), compute their dot product.\n"
   ]
  },
  {
   "cell_type": "code",
   "execution_count": 58,
   "id": "4f3aa111",
   "metadata": {},
   "outputs": [
    {
     "name": "stdout",
     "output_type": "stream",
     "text": [
      "The dot product of two array is : 44\n"
     ]
    }
   ],
   "source": [
    "arr4 = np.array([1, 2]) \n",
    "arr5 = np.array([3, 4])\n",
    "print(f\"The dot product of two array is : {np.dot(arr1, arr2)}\")"
   ]
  },
  {
   "cell_type": "markdown",
   "id": "56ee5e8b",
   "metadata": {},
   "source": [
    "## Random Numbers:\n",
    "- Generate an array of 10 random numbers between 0 and 1 using np.random.rand().\n",
    "- Create a random integer array with values between 1 and 100, and of size 5 using \n",
    "np.random.randint()."
   ]
  },
  {
   "cell_type": "code",
   "execution_count": 74,
   "id": "73b5f05f",
   "metadata": {},
   "outputs": [
    {
     "name": "stdout",
     "output_type": "stream",
     "text": [
      "[0.95877457 0.35574238 0.13711757 0.26205891 0.30685817 0.91978575\n",
      " 0.98885152 0.41883784 0.30949676 0.42426924]\n",
      "[15 70 50 26 13]\n"
     ]
    }
   ],
   "source": [
    "randArray = np.random.rand(10)\n",
    "print(randArray)\n",
    "randIntArray = np.random.randint(1, 100, 5)\n",
    "print(randIntArray)"
   ]
  },
  {
   "cell_type": "markdown",
   "id": "8c3e6874",
   "metadata": {},
   "source": [
    "## Array Comparisons:\n",
    "- Compare two arrays element-wise: arr1 = np.array([1, 2, 3]) and arr2 = \n",
    "np.array([3, 2, 1]). Find which elements in arr1 are greater than arr2."
   ]
  },
  {
   "cell_type": "code",
   "execution_count": 92,
   "id": "19cced27",
   "metadata": {},
   "outputs": [
    {
     "name": "stdout",
     "output_type": "stream",
     "text": [
      "[False  True  True]\n",
      "[6 3]\n"
     ]
    }
   ],
   "source": [
    "arr1 = np.array([1, 6, 3])\n",
    "arr2 = np.array([3, 2, 1])\n",
    "results = arr1 > arr2\n",
    "print(results)\n",
    "print(arr1[results])"
   ]
  },
  {
   "cell_type": "markdown",
   "id": "4a6256aa",
   "metadata": {},
   "source": [
    "## Aggregating Functions:\n",
    "- Use np.sum(), np.mean(), and np.std() to compute the sum, mean, and standard \n",
    "deviation of the array arr = np.array([10, 20, 30, 40, 50]).\n",
    "- Find the index of the maximum value in a NumPy array arr = np.array([5, 2, 8, \n",
    "1, 6]) using np.argmax()."
   ]
  },
  {
   "cell_type": "code",
   "execution_count": 96,
   "id": "092a7897",
   "metadata": {},
   "outputs": [
    {
     "name": "stdout",
     "output_type": "stream",
     "text": [
      "The mean of given [10 20 30 40 50] is 30.0\n",
      "The sum of given [10 20 30 40 50] is 150\n",
      "The standard deviation of given [10 20 30 40 50] is 14.142135623730951\n"
     ]
    }
   ],
   "source": [
    "arr11= np.array([10, 20, 30, 40, 50])\n",
    "print(f\"The mean of given {arr11} is {np.mean(arr11)}\")\n",
    "print(f\"The sum of given {arr11} is {np.sum(arr11)}\")\n",
    "print(f\"The standard deviation of given {arr11} is {np.std(arr11)}\")"
   ]
  },
  {
   "cell_type": "markdown",
   "id": "0b8d1f10",
   "metadata": {},
   "source": [
    "## Broadcasting:\n",
    " - Add a 1D array [1, 2, 3] to a 2D array [[10, 20, 30], [40, 50, 60]] using \n",
    "broadcasting."
   ]
  },
  {
   "cell_type": "code",
   "execution_count": 99,
   "id": "b0222a7f",
   "metadata": {},
   "outputs": [
    {
     "name": "stdout",
     "output_type": "stream",
     "text": [
      "[[11 23 33]\n",
      " [41 53 63]]\n"
     ]
    }
   ],
   "source": [
    "d1 = np.array([1,3,3])\n",
    "d2 = np.array([[10, 20, 30], [40, 50, 60]])\n",
    "print(d1 + d2)"
   ]
  },
  {
   "cell_type": "markdown",
   "id": "e747ed99",
   "metadata": {},
   "source": [
    "## Basic Data Exploration:\n",
    "- Use .info() to find out what type of data each column contains.\n",
    "- Use .head() to show the first 5 rows of the dataset.\n",
    "- Use .describe() to get a summary of numerical columns in the dataset."
   ]
  },
  {
   "cell_type": "code",
   "execution_count": 152,
   "id": "549a974e",
   "metadata": {},
   "outputs": [
    {
     "name": "stdout",
     "output_type": "stream",
     "text": [
      "<class 'pandas.core.frame.DataFrame'>\n",
      "RangeIndex: 500 entries, 0 to 499\n",
      "Data columns (total 7 columns):\n",
      " #   Column          Non-Null Count  Dtype \n",
      "---  ------          --------------  ----- \n",
      " 0   Product_ID      500 non-null    int64 \n",
      " 1   Product_Name    500 non-null    object\n",
      " 2   Category        500 non-null    object\n",
      " 3   Price           500 non-null    int64 \n",
      " 4   Stock_Quantity  500 non-null    int64 \n",
      " 5   Rating          500 non-null    int64 \n",
      " 6   Date_Added      500 non-null    object\n",
      "dtypes: int64(4), object(3)\n",
      "memory usage: 27.5+ KB\n"
     ]
    }
   ],
   "source": [
    "df = pd.read_csv('/Users/hoatran/sem3AI/sem4DataMinig/Lab1/data/tasks.csv')\n",
    "df.info()"
   ]
  },
  {
   "cell_type": "code",
   "execution_count": 153,
   "id": "e9ec1806",
   "metadata": {},
   "outputs": [
    {
     "data": {
      "text/html": [
       "<div>\n",
       "<style scoped>\n",
       "    .dataframe tbody tr th:only-of-type {\n",
       "        vertical-align: middle;\n",
       "    }\n",
       "\n",
       "    .dataframe tbody tr th {\n",
       "        vertical-align: top;\n",
       "    }\n",
       "\n",
       "    .dataframe thead th {\n",
       "        text-align: right;\n",
       "    }\n",
       "</style>\n",
       "<table border=\"1\" class=\"dataframe\">\n",
       "  <thead>\n",
       "    <tr style=\"text-align: right;\">\n",
       "      <th></th>\n",
       "      <th>Product_ID</th>\n",
       "      <th>Product_Name</th>\n",
       "      <th>Category</th>\n",
       "      <th>Price</th>\n",
       "      <th>Stock_Quantity</th>\n",
       "      <th>Rating</th>\n",
       "      <th>Date_Added</th>\n",
       "    </tr>\n",
       "  </thead>\n",
       "  <tbody>\n",
       "    <tr>\n",
       "      <th>0</th>\n",
       "      <td>1</td>\n",
       "      <td>Smartwatch</td>\n",
       "      <td>Stationery</td>\n",
       "      <td>1200</td>\n",
       "      <td>67</td>\n",
       "      <td>1</td>\n",
       "      <td>2022-01-01</td>\n",
       "    </tr>\n",
       "    <tr>\n",
       "      <th>1</th>\n",
       "      <td>2</td>\n",
       "      <td>Headphones</td>\n",
       "      <td>Stationery</td>\n",
       "      <td>2000</td>\n",
       "      <td>92</td>\n",
       "      <td>3</td>\n",
       "      <td>2022-01-02</td>\n",
       "    </tr>\n",
       "    <tr>\n",
       "      <th>2</th>\n",
       "      <td>3</td>\n",
       "      <td>Laptop</td>\n",
       "      <td>Stationery</td>\n",
       "      <td>1200</td>\n",
       "      <td>89</td>\n",
       "      <td>3</td>\n",
       "      <td>2022-01-03</td>\n",
       "    </tr>\n",
       "    <tr>\n",
       "      <th>3</th>\n",
       "      <td>4</td>\n",
       "      <td>Headphones</td>\n",
       "      <td>Stationery</td>\n",
       "      <td>500</td>\n",
       "      <td>48</td>\n",
       "      <td>5</td>\n",
       "      <td>2022-01-04</td>\n",
       "    </tr>\n",
       "    <tr>\n",
       "      <th>4</th>\n",
       "      <td>5</td>\n",
       "      <td>Laptop</td>\n",
       "      <td>Electronics</td>\n",
       "      <td>1200</td>\n",
       "      <td>98</td>\n",
       "      <td>4</td>\n",
       "      <td>2022-01-05</td>\n",
       "    </tr>\n",
       "  </tbody>\n",
       "</table>\n",
       "</div>"
      ],
      "text/plain": [
       "   Product_ID Product_Name     Category  Price  Stock_Quantity  Rating  \\\n",
       "0           1   Smartwatch   Stationery   1200              67       1   \n",
       "1           2   Headphones   Stationery   2000              92       3   \n",
       "2           3       Laptop   Stationery   1200              89       3   \n",
       "3           4   Headphones   Stationery    500              48       5   \n",
       "4           5       Laptop  Electronics   1200              98       4   \n",
       "\n",
       "   Date_Added  \n",
       "0  2022-01-01  \n",
       "1  2022-01-02  \n",
       "2  2022-01-03  \n",
       "3  2022-01-04  \n",
       "4  2022-01-05  "
      ]
     },
     "execution_count": 153,
     "metadata": {},
     "output_type": "execute_result"
    }
   ],
   "source": [
    "df.head()"
   ]
  },
  {
   "cell_type": "code",
   "execution_count": 154,
   "id": "614d2557",
   "metadata": {},
   "outputs": [
    {
     "data": {
      "text/html": [
       "<div>\n",
       "<style scoped>\n",
       "    .dataframe tbody tr th:only-of-type {\n",
       "        vertical-align: middle;\n",
       "    }\n",
       "\n",
       "    .dataframe tbody tr th {\n",
       "        vertical-align: top;\n",
       "    }\n",
       "\n",
       "    .dataframe thead th {\n",
       "        text-align: right;\n",
       "    }\n",
       "</style>\n",
       "<table border=\"1\" class=\"dataframe\">\n",
       "  <thead>\n",
       "    <tr style=\"text-align: right;\">\n",
       "      <th></th>\n",
       "      <th>Product_ID</th>\n",
       "      <th>Price</th>\n",
       "      <th>Stock_Quantity</th>\n",
       "      <th>Rating</th>\n",
       "    </tr>\n",
       "  </thead>\n",
       "  <tbody>\n",
       "    <tr>\n",
       "      <th>count</th>\n",
       "      <td>500.000000</td>\n",
       "      <td>500.000000</td>\n",
       "      <td>500.000000</td>\n",
       "      <td>500.000000</td>\n",
       "    </tr>\n",
       "    <tr>\n",
       "      <th>mean</th>\n",
       "      <td>250.500000</td>\n",
       "      <td>1241.400000</td>\n",
       "      <td>49.252000</td>\n",
       "      <td>3.006000</td>\n",
       "    </tr>\n",
       "    <tr>\n",
       "      <th>std</th>\n",
       "      <td>144.481833</td>\n",
       "      <td>709.558303</td>\n",
       "      <td>28.447478</td>\n",
       "      <td>1.477271</td>\n",
       "    </tr>\n",
       "    <tr>\n",
       "      <th>min</th>\n",
       "      <td>1.000000</td>\n",
       "      <td>300.000000</td>\n",
       "      <td>1.000000</td>\n",
       "      <td>1.000000</td>\n",
       "    </tr>\n",
       "    <tr>\n",
       "      <th>25%</th>\n",
       "      <td>125.750000</td>\n",
       "      <td>700.000000</td>\n",
       "      <td>25.750000</td>\n",
       "      <td>2.000000</td>\n",
       "    </tr>\n",
       "    <tr>\n",
       "      <th>50%</th>\n",
       "      <td>250.500000</td>\n",
       "      <td>1200.000000</td>\n",
       "      <td>47.000000</td>\n",
       "      <td>3.000000</td>\n",
       "    </tr>\n",
       "    <tr>\n",
       "      <th>75%</th>\n",
       "      <td>375.250000</td>\n",
       "      <td>2000.000000</td>\n",
       "      <td>75.000000</td>\n",
       "      <td>4.000000</td>\n",
       "    </tr>\n",
       "    <tr>\n",
       "      <th>max</th>\n",
       "      <td>500.000000</td>\n",
       "      <td>2500.000000</td>\n",
       "      <td>99.000000</td>\n",
       "      <td>5.000000</td>\n",
       "    </tr>\n",
       "  </tbody>\n",
       "</table>\n",
       "</div>"
      ],
      "text/plain": [
       "       Product_ID        Price  Stock_Quantity      Rating\n",
       "count  500.000000   500.000000      500.000000  500.000000\n",
       "mean   250.500000  1241.400000       49.252000    3.006000\n",
       "std    144.481833   709.558303       28.447478    1.477271\n",
       "min      1.000000   300.000000        1.000000    1.000000\n",
       "25%    125.750000   700.000000       25.750000    2.000000\n",
       "50%    250.500000  1200.000000       47.000000    3.000000\n",
       "75%    375.250000  2000.000000       75.000000    4.000000\n",
       "max    500.000000  2500.000000       99.000000    5.000000"
      ]
     },
     "execution_count": 154,
     "metadata": {},
     "output_type": "execute_result"
    }
   ],
   "source": [
    "df.describe()"
   ]
  },
  {
   "cell_type": "markdown",
   "id": "2f32df7b",
   "metadata": {},
   "source": [
    "## Handling Missing Data:\n",
    "- Fill any missing values in the Price column with the mean price of all products.\n",
    "- Fill any missing values in the Stock_Quantity column with the median stock quantity.\n",
    "- Drop any rows that have missing values in the Product_Name column."
   ]
  },
  {
   "cell_type": "code",
   "execution_count": 155,
   "id": "8a2827c0",
   "metadata": {},
   "outputs": [
    {
     "name": "stdout",
     "output_type": "stream",
     "text": [
      "Product_ID        0\n",
      "Product_Name      0\n",
      "Category          0\n",
      "Price             0\n",
      "Stock_Quantity    0\n",
      "Rating            0\n",
      "Date_Added        0\n",
      "dtype: int64\n"
     ]
    }
   ],
   "source": [
    "print(df.isna().sum())"
   ]
  },
  {
   "cell_type": "markdown",
   "id": "4a71abcd",
   "metadata": {},
   "source": [
    "## Data Sorting:\n",
    "- Sort the dataset by the Price column in descending order.\n",
    "- Sort the dataset by the Stock_Quantity column in ascending order."
   ]
  },
  {
   "cell_type": "code",
   "execution_count": 156,
   "id": "0367ebc4",
   "metadata": {},
   "outputs": [
    {
     "data": {
      "text/plain": [
       "332    2500\n",
       "50     2500\n",
       "280    2500\n",
       "58     2500\n",
       "57     2500\n",
       "       ... \n",
       "413     300\n",
       "411     300\n",
       "308     300\n",
       "191     300\n",
       "225     300\n",
       "Name: Price, Length: 500, dtype: int64"
      ]
     },
     "execution_count": 156,
     "metadata": {},
     "output_type": "execute_result"
    }
   ],
   "source": [
    "df['Price'].sort_values(ascending=False)"
   ]
  },
  {
   "cell_type": "code",
   "execution_count": 157,
   "id": "16e966c3",
   "metadata": {},
   "outputs": [
    {
     "data": {
      "text/plain": [
       "196     1\n",
       "87      1\n",
       "486     1\n",
       "143     1\n",
       "237     1\n",
       "       ..\n",
       "214    99\n",
       "58     99\n",
       "20     99\n",
       "203    99\n",
       "355    99\n",
       "Name: Stock_Quantity, Length: 500, dtype: int64"
      ]
     },
     "execution_count": 157,
     "metadata": {},
     "output_type": "execute_result"
    }
   ],
   "source": [
    "df['Stock_Quantity'].sort_values(ascending=True)"
   ]
  },
  {
   "cell_type": "markdown",
   "id": "b8f63edb",
   "metadata": {},
   "source": [
    "## Filtering Data:\n",
    "- Filter and display all products that have a Price greater than 1000.\n",
    "- Filter and display all products with a Rating of 4 or higher.\n"
   ]
  },
  {
   "cell_type": "code",
   "execution_count": 165,
   "id": "c7bc4a02",
   "metadata": {},
   "outputs": [
    {
     "name": "stdout",
     "output_type": "stream",
     "text": [
      "     Product_ID Product_Name     Category  Price  Stock_Quantity  Rating  \\\n",
      "339         340       Laptop    Furniture   2500              35       4   \n",
      "50           51     Keyboard  Accessories   2500              50       5   \n",
      "17           18       Camera  Accessories   1200              63       4   \n",
      "392         393      Monitor   Stationery   2000              61       4   \n",
      "293         294       Laptop  Accessories   1200              75       4   \n",
      "\n",
      "     Date_Added  \n",
      "339  2022-12-06  \n",
      "50   2022-02-20  \n",
      "17   2022-01-18  \n",
      "392  2023-01-28  \n",
      "293  2022-10-21  \n"
     ]
    }
   ],
   "source": [
    "filterePriceAndRating = df[(df['Price'] > 1000) & (df['Rating'] >= 4)] \n",
    "print(filterePriceAndRating.sample(n=5, random_state=42))"
   ]
  },
  {
   "cell_type": "markdown",
   "id": "494a5d50",
   "metadata": {},
   "source": [
    "##  Adding New Columns:\n",
    "- Add   a   new   column   called  Total_Value  that   represents   the   product   of  Price  and\n",
    "Stock_Quantity.\n",
    "- Add a new column Discounted_Price, where products with a Rating of 4 or higher get a\n",
    "10% discount, and others get a 5% discount."
   ]
  },
  {
   "cell_type": "code",
   "execution_count": 168,
   "id": "f0381f26",
   "metadata": {},
   "outputs": [
    {
     "data": {
      "text/html": [
       "<div>\n",
       "<style scoped>\n",
       "    .dataframe tbody tr th:only-of-type {\n",
       "        vertical-align: middle;\n",
       "    }\n",
       "\n",
       "    .dataframe tbody tr th {\n",
       "        vertical-align: top;\n",
       "    }\n",
       "\n",
       "    .dataframe thead th {\n",
       "        text-align: right;\n",
       "    }\n",
       "</style>\n",
       "<table border=\"1\" class=\"dataframe\">\n",
       "  <thead>\n",
       "    <tr style=\"text-align: right;\">\n",
       "      <th></th>\n",
       "      <th>Product_ID</th>\n",
       "      <th>Product_Name</th>\n",
       "      <th>Category</th>\n",
       "      <th>Price</th>\n",
       "      <th>Stock_Quantity</th>\n",
       "      <th>Rating</th>\n",
       "      <th>Date_Added</th>\n",
       "      <th>Total_Value</th>\n",
       "    </tr>\n",
       "  </thead>\n",
       "  <tbody>\n",
       "    <tr>\n",
       "      <th>0</th>\n",
       "      <td>1</td>\n",
       "      <td>Smartwatch</td>\n",
       "      <td>Stationery</td>\n",
       "      <td>1200</td>\n",
       "      <td>67</td>\n",
       "      <td>1</td>\n",
       "      <td>2022-01-01</td>\n",
       "      <td>80400</td>\n",
       "    </tr>\n",
       "    <tr>\n",
       "      <th>1</th>\n",
       "      <td>2</td>\n",
       "      <td>Headphones</td>\n",
       "      <td>Stationery</td>\n",
       "      <td>2000</td>\n",
       "      <td>92</td>\n",
       "      <td>3</td>\n",
       "      <td>2022-01-02</td>\n",
       "      <td>184000</td>\n",
       "    </tr>\n",
       "    <tr>\n",
       "      <th>2</th>\n",
       "      <td>3</td>\n",
       "      <td>Laptop</td>\n",
       "      <td>Stationery</td>\n",
       "      <td>1200</td>\n",
       "      <td>89</td>\n",
       "      <td>3</td>\n",
       "      <td>2022-01-03</td>\n",
       "      <td>106800</td>\n",
       "    </tr>\n",
       "    <tr>\n",
       "      <th>3</th>\n",
       "      <td>4</td>\n",
       "      <td>Headphones</td>\n",
       "      <td>Stationery</td>\n",
       "      <td>500</td>\n",
       "      <td>48</td>\n",
       "      <td>5</td>\n",
       "      <td>2022-01-04</td>\n",
       "      <td>24000</td>\n",
       "    </tr>\n",
       "    <tr>\n",
       "      <th>4</th>\n",
       "      <td>5</td>\n",
       "      <td>Laptop</td>\n",
       "      <td>Electronics</td>\n",
       "      <td>1200</td>\n",
       "      <td>98</td>\n",
       "      <td>4</td>\n",
       "      <td>2022-01-05</td>\n",
       "      <td>117600</td>\n",
       "    </tr>\n",
       "  </tbody>\n",
       "</table>\n",
       "</div>"
      ],
      "text/plain": [
       "   Product_ID Product_Name     Category  Price  Stock_Quantity  Rating  \\\n",
       "0           1   Smartwatch   Stationery   1200              67       1   \n",
       "1           2   Headphones   Stationery   2000              92       3   \n",
       "2           3       Laptop   Stationery   1200              89       3   \n",
       "3           4   Headphones   Stationery    500              48       5   \n",
       "4           5       Laptop  Electronics   1200              98       4   \n",
       "\n",
       "   Date_Added  Total_Value  \n",
       "0  2022-01-01        80400  \n",
       "1  2022-01-02       184000  \n",
       "2  2022-01-03       106800  \n",
       "3  2022-01-04        24000  \n",
       "4  2022-01-05       117600  "
      ]
     },
     "execution_count": 168,
     "metadata": {},
     "output_type": "execute_result"
    }
   ],
   "source": [
    "df['Total_Value'] = df['Price'] * df['Stock_Quantity']\n",
    "df.head()"
   ]
  },
  {
   "cell_type": "code",
   "execution_count": 171,
   "id": "d1829508",
   "metadata": {},
   "outputs": [],
   "source": [
    "df['Discounted_Price'] = np.where(df['Rating'] >= 4.0, df['Price'] * 0.90, df['Price'] * 0.95)"
   ]
  },
  {
   "cell_type": "code",
   "execution_count": 172,
   "id": "4802c98c",
   "metadata": {},
   "outputs": [
    {
     "data": {
      "text/html": [
       "<div>\n",
       "<style scoped>\n",
       "    .dataframe tbody tr th:only-of-type {\n",
       "        vertical-align: middle;\n",
       "    }\n",
       "\n",
       "    .dataframe tbody tr th {\n",
       "        vertical-align: top;\n",
       "    }\n",
       "\n",
       "    .dataframe thead th {\n",
       "        text-align: right;\n",
       "    }\n",
       "</style>\n",
       "<table border=\"1\" class=\"dataframe\">\n",
       "  <thead>\n",
       "    <tr style=\"text-align: right;\">\n",
       "      <th></th>\n",
       "      <th>Product_ID</th>\n",
       "      <th>Product_Name</th>\n",
       "      <th>Category</th>\n",
       "      <th>Price</th>\n",
       "      <th>Stock_Quantity</th>\n",
       "      <th>Rating</th>\n",
       "      <th>Date_Added</th>\n",
       "      <th>Total_Value</th>\n",
       "      <th>Discounted_Price</th>\n",
       "    </tr>\n",
       "  </thead>\n",
       "  <tbody>\n",
       "    <tr>\n",
       "      <th>0</th>\n",
       "      <td>1</td>\n",
       "      <td>Smartwatch</td>\n",
       "      <td>Stationery</td>\n",
       "      <td>1200</td>\n",
       "      <td>67</td>\n",
       "      <td>1</td>\n",
       "      <td>2022-01-01</td>\n",
       "      <td>80400</td>\n",
       "      <td>1140.0</td>\n",
       "    </tr>\n",
       "    <tr>\n",
       "      <th>1</th>\n",
       "      <td>2</td>\n",
       "      <td>Headphones</td>\n",
       "      <td>Stationery</td>\n",
       "      <td>2000</td>\n",
       "      <td>92</td>\n",
       "      <td>3</td>\n",
       "      <td>2022-01-02</td>\n",
       "      <td>184000</td>\n",
       "      <td>1900.0</td>\n",
       "    </tr>\n",
       "    <tr>\n",
       "      <th>2</th>\n",
       "      <td>3</td>\n",
       "      <td>Laptop</td>\n",
       "      <td>Stationery</td>\n",
       "      <td>1200</td>\n",
       "      <td>89</td>\n",
       "      <td>3</td>\n",
       "      <td>2022-01-03</td>\n",
       "      <td>106800</td>\n",
       "      <td>1140.0</td>\n",
       "    </tr>\n",
       "    <tr>\n",
       "      <th>3</th>\n",
       "      <td>4</td>\n",
       "      <td>Headphones</td>\n",
       "      <td>Stationery</td>\n",
       "      <td>500</td>\n",
       "      <td>48</td>\n",
       "      <td>5</td>\n",
       "      <td>2022-01-04</td>\n",
       "      <td>24000</td>\n",
       "      <td>450.0</td>\n",
       "    </tr>\n",
       "    <tr>\n",
       "      <th>4</th>\n",
       "      <td>5</td>\n",
       "      <td>Laptop</td>\n",
       "      <td>Electronics</td>\n",
       "      <td>1200</td>\n",
       "      <td>98</td>\n",
       "      <td>4</td>\n",
       "      <td>2022-01-05</td>\n",
       "      <td>117600</td>\n",
       "      <td>1080.0</td>\n",
       "    </tr>\n",
       "  </tbody>\n",
       "</table>\n",
       "</div>"
      ],
      "text/plain": [
       "   Product_ID Product_Name     Category  Price  Stock_Quantity  Rating  \\\n",
       "0           1   Smartwatch   Stationery   1200              67       1   \n",
       "1           2   Headphones   Stationery   2000              92       3   \n",
       "2           3       Laptop   Stationery   1200              89       3   \n",
       "3           4   Headphones   Stationery    500              48       5   \n",
       "4           5       Laptop  Electronics   1200              98       4   \n",
       "\n",
       "   Date_Added  Total_Value  Discounted_Price  \n",
       "0  2022-01-01        80400            1140.0  \n",
       "1  2022-01-02       184000            1900.0  \n",
       "2  2022-01-03       106800            1140.0  \n",
       "3  2022-01-04        24000             450.0  \n",
       "4  2022-01-05       117600            1080.0  "
      ]
     },
     "execution_count": 172,
     "metadata": {},
     "output_type": "execute_result"
    }
   ],
   "source": [
    "df.head()"
   ]
  },
  {
   "cell_type": "markdown",
   "id": "3bbc9db9",
   "metadata": {},
   "source": [
    "## Sorting by Multiple Columns:\n",
    "- Sort the products first by Category in ascending order, and then by Price in descending\n",
    "order."
   ]
  },
  {
   "cell_type": "code",
   "execution_count": 178,
   "id": "4995bdb3",
   "metadata": {},
   "outputs": [
    {
     "data": {
      "text/html": [
       "<div>\n",
       "<style scoped>\n",
       "    .dataframe tbody tr th:only-of-type {\n",
       "        vertical-align: middle;\n",
       "    }\n",
       "\n",
       "    .dataframe tbody tr th {\n",
       "        vertical-align: top;\n",
       "    }\n",
       "\n",
       "    .dataframe thead th {\n",
       "        text-align: right;\n",
       "    }\n",
       "</style>\n",
       "<table border=\"1\" class=\"dataframe\">\n",
       "  <thead>\n",
       "    <tr style=\"text-align: right;\">\n",
       "      <th></th>\n",
       "      <th>Product_ID</th>\n",
       "      <th>Product_Name</th>\n",
       "      <th>Category</th>\n",
       "      <th>Price</th>\n",
       "      <th>Stock_Quantity</th>\n",
       "      <th>Rating</th>\n",
       "      <th>Date_Added</th>\n",
       "      <th>Total_Value</th>\n",
       "      <th>Discounted_Price</th>\n",
       "    </tr>\n",
       "  </thead>\n",
       "  <tbody>\n",
       "    <tr>\n",
       "      <th>31</th>\n",
       "      <td>32</td>\n",
       "      <td>Smartphone</td>\n",
       "      <td>Accessories</td>\n",
       "      <td>2500</td>\n",
       "      <td>39</td>\n",
       "      <td>4</td>\n",
       "      <td>2022-02-01</td>\n",
       "      <td>97500</td>\n",
       "      <td>2250.0</td>\n",
       "    </tr>\n",
       "    <tr>\n",
       "      <th>50</th>\n",
       "      <td>51</td>\n",
       "      <td>Keyboard</td>\n",
       "      <td>Accessories</td>\n",
       "      <td>2500</td>\n",
       "      <td>50</td>\n",
       "      <td>5</td>\n",
       "      <td>2022-02-20</td>\n",
       "      <td>125000</td>\n",
       "      <td>2250.0</td>\n",
       "    </tr>\n",
       "    <tr>\n",
       "      <th>58</th>\n",
       "      <td>59</td>\n",
       "      <td>Camera</td>\n",
       "      <td>Accessories</td>\n",
       "      <td>2500</td>\n",
       "      <td>99</td>\n",
       "      <td>4</td>\n",
       "      <td>2022-02-28</td>\n",
       "      <td>247500</td>\n",
       "      <td>2250.0</td>\n",
       "    </tr>\n",
       "    <tr>\n",
       "      <th>89</th>\n",
       "      <td>90</td>\n",
       "      <td>Laptop</td>\n",
       "      <td>Accessories</td>\n",
       "      <td>2500</td>\n",
       "      <td>66</td>\n",
       "      <td>2</td>\n",
       "      <td>2022-03-31</td>\n",
       "      <td>165000</td>\n",
       "      <td>2375.0</td>\n",
       "    </tr>\n",
       "    <tr>\n",
       "      <th>90</th>\n",
       "      <td>91</td>\n",
       "      <td>Monitor</td>\n",
       "      <td>Accessories</td>\n",
       "      <td>2500</td>\n",
       "      <td>88</td>\n",
       "      <td>3</td>\n",
       "      <td>2022-04-01</td>\n",
       "      <td>220000</td>\n",
       "      <td>2375.0</td>\n",
       "    </tr>\n",
       "  </tbody>\n",
       "</table>\n",
       "</div>"
      ],
      "text/plain": [
       "    Product_ID Product_Name     Category  Price  Stock_Quantity  Rating  \\\n",
       "31          32   Smartphone  Accessories   2500              39       4   \n",
       "50          51     Keyboard  Accessories   2500              50       5   \n",
       "58          59       Camera  Accessories   2500              99       4   \n",
       "89          90       Laptop  Accessories   2500              66       2   \n",
       "90          91      Monitor  Accessories   2500              88       3   \n",
       "\n",
       "    Date_Added  Total_Value  Discounted_Price  \n",
       "31  2022-02-01        97500            2250.0  \n",
       "50  2022-02-20       125000            2250.0  \n",
       "58  2022-02-28       247500            2250.0  \n",
       "89  2022-03-31       165000            2375.0  \n",
       "90  2022-04-01       220000            2375.0  "
      ]
     },
     "execution_count": 178,
     "metadata": {},
     "output_type": "execute_result"
    }
   ],
   "source": [
    "df_sorted = df.sort_values(by=['Category', 'Price'], ascending=[True, False])\n",
    "df_sorted.head()"
   ]
  },
  {
   "cell_type": "markdown",
   "id": "16f07c05",
   "metadata": {},
   "source": [
    "## Working with Categorical Data:\n",
    "- Count   how   many   products   are   in   each   category   by   using  .value_counts()  on   the\n",
    "Category column."
   ]
  },
  {
   "cell_type": "code",
   "execution_count": 179,
   "id": "021e9861",
   "metadata": {},
   "outputs": [
    {
     "data": {
      "text/plain": [
       "Category\n",
       "Stationery     139\n",
       "Electronics    139\n",
       "Accessories    124\n",
       "Furniture       98\n",
       "Name: count, dtype: int64"
      ]
     },
     "execution_count": 179,
     "metadata": {},
     "output_type": "execute_result"
    }
   ],
   "source": [
    "df['Category'].value_counts()"
   ]
  },
  {
   "cell_type": "markdown",
   "id": "3ba3b02d",
   "metadata": {},
   "source": [
    "## Creating a New DataFrame:\n",
    "- Create a new DataFrame containing only the  Product_ID  and  Price  columns from the\n",
    "original dataset."
   ]
  },
  {
   "cell_type": "code",
   "execution_count": 186,
   "id": "c52fea21",
   "metadata": {},
   "outputs": [],
   "source": [
    "new_df = df[['Product_ID', 'Price']]"
   ]
  },
  {
   "cell_type": "code",
   "execution_count": 187,
   "id": "d190ee2c",
   "metadata": {},
   "outputs": [
    {
     "data": {
      "text/html": [
       "<div>\n",
       "<style scoped>\n",
       "    .dataframe tbody tr th:only-of-type {\n",
       "        vertical-align: middle;\n",
       "    }\n",
       "\n",
       "    .dataframe tbody tr th {\n",
       "        vertical-align: top;\n",
       "    }\n",
       "\n",
       "    .dataframe thead th {\n",
       "        text-align: right;\n",
       "    }\n",
       "</style>\n",
       "<table border=\"1\" class=\"dataframe\">\n",
       "  <thead>\n",
       "    <tr style=\"text-align: right;\">\n",
       "      <th></th>\n",
       "      <th>Product_ID</th>\n",
       "      <th>Price</th>\n",
       "    </tr>\n",
       "  </thead>\n",
       "  <tbody>\n",
       "    <tr>\n",
       "      <th>0</th>\n",
       "      <td>1</td>\n",
       "      <td>1200</td>\n",
       "    </tr>\n",
       "    <tr>\n",
       "      <th>1</th>\n",
       "      <td>2</td>\n",
       "      <td>2000</td>\n",
       "    </tr>\n",
       "    <tr>\n",
       "      <th>2</th>\n",
       "      <td>3</td>\n",
       "      <td>1200</td>\n",
       "    </tr>\n",
       "    <tr>\n",
       "      <th>3</th>\n",
       "      <td>4</td>\n",
       "      <td>500</td>\n",
       "    </tr>\n",
       "    <tr>\n",
       "      <th>4</th>\n",
       "      <td>5</td>\n",
       "      <td>1200</td>\n",
       "    </tr>\n",
       "  </tbody>\n",
       "</table>\n",
       "</div>"
      ],
      "text/plain": [
       "   Product_ID  Price\n",
       "0           1   1200\n",
       "1           2   2000\n",
       "2           3   1200\n",
       "3           4    500\n",
       "4           5   1200"
      ]
     },
     "execution_count": 187,
     "metadata": {},
     "output_type": "execute_result"
    }
   ],
   "source": [
    "new_df.head()"
   ]
  },
  {
   "cell_type": "code",
   "execution_count": null,
   "id": "ce60e209",
   "metadata": {},
   "outputs": [],
   "source": []
  }
 ],
 "metadata": {
  "kernelspec": {
   "display_name": "ml_transformers",
   "language": "python",
   "name": "python3"
  },
  "language_info": {
   "codemirror_mode": {
    "name": "ipython",
    "version": 3
   },
   "file_extension": ".py",
   "mimetype": "text/x-python",
   "name": "python",
   "nbconvert_exporter": "python",
   "pygments_lexer": "ipython3",
   "version": "3.9.19"
  }
 },
 "nbformat": 4,
 "nbformat_minor": 5
}
