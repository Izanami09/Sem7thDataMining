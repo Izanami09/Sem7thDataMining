{
 "cells": [
  {
   "cell_type": "code",
   "execution_count": 2,
   "id": "569e4ed3",
   "metadata": {},
   "outputs": [],
   "source": [
    "import numpy as np\n",
    "import pandas as pd"
   ]
  },
  {
   "cell_type": "markdown",
   "id": "8ff48695",
   "metadata": {},
   "source": [
    "## Creating NumPy Arrays:\n",
    "* Create a 1D NumPy array with 10 elements, containing the numbers from 1 to 10.\n",
    "* Create a 2D NumPy array of shape (3, 4) filled with ones.\n",
    "* Create a 3x3 identity matrix using NumPy."
   ]
  },
  {
   "cell_type": "code",
   "execution_count": null,
   "id": "054bc44d",
   "metadata": {},
   "outputs": [],
   "source": [
    "a1D = np.array([1, 2, 3, 4, 5, 6, 7, 8, 9, 10])\n",
    "a1Dcf = np.arange(1,11) #cf = using creation function"
   ]
  },
  {
   "cell_type": "code",
   "execution_count": 8,
   "id": "f4a54127",
   "metadata": {},
   "outputs": [
    {
     "name": "stdout",
     "output_type": "stream",
     "text": [
      "[ 1  2  3  4  5  6  7  8  9 10]\n",
      "[ 1  2  3  4  5  6  7  8  9 10]\n"
     ]
    }
   ],
   "source": [
    "print(a1D)\n",
    "print(a1Dcf)"
   ]
  },
  {
   "cell_type": "code",
   "execution_count": 43,
   "id": "f15a580f",
   "metadata": {},
   "outputs": [],
   "source": [
    "a2D = np.array([[1, 1, 1, 1], [1,1,1,1], [1,1,1,1]])\n",
    "a2Dcf = np.ones((3,4), dtype=int)"
   ]
  },
  {
   "cell_type": "code",
   "execution_count": 44,
   "id": "51704fdc",
   "metadata": {},
   "outputs": [
    {
     "name": "stdout",
     "output_type": "stream",
     "text": [
      "[[1 1 1 1]\n",
      " [1 1 1 1]\n",
      " [1 1 1 1]]\n",
      "[[1 1 1 1]\n",
      " [1 1 1 1]\n",
      " [1 1 1 1]]\n"
     ]
    }
   ],
   "source": [
    "print(a2D)\n",
    "print(a2Dcf)"
   ]
  },
  {
   "cell_type": "code",
   "execution_count": null,
   "id": "df1876b9",
   "metadata": {},
   "outputs": [
    {
     "name": "stdout",
     "output_type": "stream",
     "text": [
      "[[1 0 0]\n",
      " [0 1 0]\n",
      " [0 0 1]]\n",
      "[[1 0 0]\n",
      " [0 1 0]\n",
      " [0 0 1]]\n",
      "[[1 0 0]\n",
      " [0 1 0]\n",
      " [0 0 1]]\n"
     ]
    }
   ],
   "source": [
    "identityMatrix = np.array([[1,0,0],[0,1,0],[0,0,1]])\n",
    "iMCf = np.eye(3, dtype=int)\n",
    "iMCfD = np.diag([1,1,1]) \n",
    "print(identityMatrix)\n",
    "print(iMCf)\n",
    "print(iMCfD)\n"
   ]
  },
  {
   "cell_type": "markdown",
   "id": "01258b26",
   "metadata": {},
   "source": [
    "## Array Operations:\n",
    "* Add 5 to each element in a 1D NumPy array: [1, 2, 3, 4, 5].\n",
    "* Multiply each element in a 1D NumPy array: [2, 4, 6, 8, 10] by 2.\n",
    "* Subtract 3 from each element in a NumPy array: [6, 8, 10, 12, 14]."
   ]
  },
  {
   "cell_type": "code",
   "execution_count": 16,
   "id": "ebaee022",
   "metadata": {},
   "outputs": [
    {
     "name": "stdout",
     "output_type": "stream",
     "text": [
      "[1 2 3 4 5]\n",
      "Rsult when 5 is added : \n",
      "[ 6  7  8  9 10]\n"
     ]
    }
   ],
   "source": [
    "arr1 = np.arange(1,6)\n",
    "result = np.add(arr1, 5)\n",
    "print(arr1)\n",
    "print(\"Rsult when 5 is added : \")\n",
    "print(result)"
   ]
  },
  {
   "cell_type": "code",
   "execution_count": 20,
   "id": "f882743b",
   "metadata": {},
   "outputs": [
    {
     "name": "stdout",
     "output_type": "stream",
     "text": [
      "[ 2  4  6  8 10]\n",
      "Result when multiplied by 2\n",
      "[ 4  8 12 16 20]\n"
     ]
    }
   ],
   "source": [
    "arr2 = np.arange(2,12,2)\n",
    "print(arr2)\n",
    "result2 = np.multiply(arr2, 2)\n",
    "print(\"Result when multiplied by 2\")\n",
    "print(result2)"
   ]
  },
  {
   "cell_type": "code",
   "execution_count": 22,
   "id": "10942b49",
   "metadata": {},
   "outputs": [
    {
     "name": "stdout",
     "output_type": "stream",
     "text": [
      "[ 6  8 10 12 14]\n",
      "Result when subtracted by 3\n",
      "[ 3  5  7  9 11]\n"
     ]
    }
   ],
   "source": [
    "arr3 = np.arange(6,16,2)\n",
    "print(arr3)\n",
    "result2 = np.subtract(arr3, 3)\n",
    "print(\"Result when subtracted by 3\")\n",
    "print(result2)"
   ]
  },
  {
   "cell_type": "markdown",
   "id": "61801c07",
   "metadata": {},
   "source": [
    "### Indexing and Slicing:\n",
    "- Given a 1D array arr = np.array([10, 20, 30, 40, 50]), access the third \n",
    "element.\n",
    "- Slice a 1D array to get the first 3 elements.\n",
    "- Given a 2D array, extract the element from the second row and third column."
   ]
  },
  {
   "cell_type": "code",
   "execution_count": 36,
   "id": "44b33518",
   "metadata": {},
   "outputs": [
    {
     "name": "stdout",
     "output_type": "stream",
     "text": [
      "[10 20 30 40 50]\n",
      "The third elemet is 30\n",
      "The first theree elements are [10 20 30]\n",
      "[[11 12 13]\n",
      " [21 22 23]\n",
      " [31 32 33]]\n",
      "The element from 2nd row and 3rd column is 23\n"
     ]
    }
   ],
   "source": [
    "npArr = np.arange(10, 60, 10)\n",
    "print(npArr)\n",
    "print(f\"The third elemet is {npArr[2]}\")\n",
    "print(f\"The first theree elements are {npArr[:3]}\")\n",
    "np2Arr = np.array([\n",
    "    [11, 12, 13],\n",
    "    [21, 22, 23],\n",
    "    [31, 32, 33]\n",
    "])\n",
    "print(np2Arr)\n",
    "print(f\"The element from 2nd row and 3rd column is {np2Arr[1, 2]}\")"
   ]
  },
  {
   "cell_type": "code",
   "execution_count": null,
   "id": "2a7b2073",
   "metadata": {},
   "outputs": [],
   "source": []
  }
 ],
 "metadata": {
  "kernelspec": {
   "display_name": "ml_transformers",
   "language": "python",
   "name": "python3"
  },
  "language_info": {
   "codemirror_mode": {
    "name": "ipython",
    "version": 3
   },
   "file_extension": ".py",
   "mimetype": "text/x-python",
   "name": "python",
   "nbconvert_exporter": "python",
   "pygments_lexer": "ipython3",
   "version": "3.9.19"
  }
 },
 "nbformat": 4,
 "nbformat_minor": 5
}
