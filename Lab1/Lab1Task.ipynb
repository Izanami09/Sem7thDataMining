{
 "cells": [
  {
   "cell_type": "code",
   "execution_count": 2,
   "id": "569e4ed3",
   "metadata": {},
   "outputs": [],
   "source": [
    "import numpy as np\n",
    "import pandas as pd"
   ]
  },
  {
   "cell_type": "markdown",
   "id": "8ff48695",
   "metadata": {},
   "source": [
    "## Creating NumPy Arrays:\n",
    "* Create a 1D NumPy array with 10 elements, containing the numbers from 1 to 10.\n",
    "* Create a 2D NumPy array of shape (3, 4) filled with ones.\n",
    "* Create a 3x3 identity matrix using NumPy."
   ]
  },
  {
   "cell_type": "code",
   "execution_count": null,
   "id": "054bc44d",
   "metadata": {},
   "outputs": [],
   "source": [
    "a1D = np.array([1, 2, 3, 4, 5, 6, 7, 8, 9, 10])\n",
    "a1Dcf = np.arange(1,11) #cf = using creation function"
   ]
  },
  {
   "cell_type": "code",
   "execution_count": 8,
   "id": "f4a54127",
   "metadata": {},
   "outputs": [
    {
     "name": "stdout",
     "output_type": "stream",
     "text": [
      "[ 1  2  3  4  5  6  7  8  9 10]\n",
      "[ 1  2  3  4  5  6  7  8  9 10]\n"
     ]
    }
   ],
   "source": [
    "print(a1D)\n",
    "print(a1Dcf)"
   ]
  },
  {
   "cell_type": "code",
   "execution_count": 43,
   "id": "f15a580f",
   "metadata": {},
   "outputs": [],
   "source": [
    "a2D = np.array([[1, 1, 1, 1], [1,1,1,1], [1,1,1,1]])\n",
    "a2Dcf = np.ones((3,4), dtype=int)"
   ]
  },
  {
   "cell_type": "code",
   "execution_count": 44,
   "id": "51704fdc",
   "metadata": {},
   "outputs": [
    {
     "name": "stdout",
     "output_type": "stream",
     "text": [
      "[[1 1 1 1]\n",
      " [1 1 1 1]\n",
      " [1 1 1 1]]\n",
      "[[1 1 1 1]\n",
      " [1 1 1 1]\n",
      " [1 1 1 1]]\n"
     ]
    }
   ],
   "source": [
    "print(a2D)\n",
    "print(a2Dcf)"
   ]
  },
  {
   "cell_type": "code",
   "execution_count": null,
   "id": "df1876b9",
   "metadata": {},
   "outputs": [
    {
     "name": "stdout",
     "output_type": "stream",
     "text": [
      "[[1 0 0]\n",
      " [0 1 0]\n",
      " [0 0 1]]\n",
      "[[1 0 0]\n",
      " [0 1 0]\n",
      " [0 0 1]]\n",
      "[[1 0 0]\n",
      " [0 1 0]\n",
      " [0 0 1]]\n"
     ]
    }
   ],
   "source": [
    "identityMatrix = np.array([[1,0,0],[0,1,0],[0,0,1]])\n",
    "iMCf = np.eye(3, dtype=int)\n",
    "iMCfD = np.diag([1,1,1]) \n",
    "print(identityMatrix)\n",
    "print(iMCf)\n",
    "print(iMCfD)\n"
   ]
  },
  {
   "cell_type": "markdown",
   "id": "01258b26",
   "metadata": {},
   "source": [
    "## Array Operations:\n",
    "* Add 5 to each element in a 1D NumPy array: [1, 2, 3, 4, 5].\n",
    "* Multiply each element in a 1D NumPy array: [2, 4, 6, 8, 10] by 2.\n",
    "* Subtract 3 from each element in a NumPy array: [6, 8, 10, 12, 14]."
   ]
  },
  {
   "cell_type": "code",
   "execution_count": 16,
   "id": "ebaee022",
   "metadata": {},
   "outputs": [
    {
     "name": "stdout",
     "output_type": "stream",
     "text": [
      "[1 2 3 4 5]\n",
      "Rsult when 5 is added : \n",
      "[ 6  7  8  9 10]\n"
     ]
    }
   ],
   "source": [
    "arr1 = np.arange(1,6)\n",
    "result = np.add(arr1, 5)\n",
    "print(arr1)\n",
    "print(\"Rsult when 5 is added : \")\n",
    "print(result)"
   ]
  },
  {
   "cell_type": "code",
   "execution_count": 20,
   "id": "f882743b",
   "metadata": {},
   "outputs": [
    {
     "name": "stdout",
     "output_type": "stream",
     "text": [
      "[ 2  4  6  8 10]\n",
      "Result when multiplied by 2\n",
      "[ 4  8 12 16 20]\n"
     ]
    }
   ],
   "source": [
    "arr2 = np.arange(2,12,2)\n",
    "print(arr2)\n",
    "result2 = np.multiply(arr2, 2)\n",
    "print(\"Result when multiplied by 2\")\n",
    "print(result2)"
   ]
  },
  {
   "cell_type": "code",
   "execution_count": 22,
   "id": "10942b49",
   "metadata": {},
   "outputs": [
    {
     "name": "stdout",
     "output_type": "stream",
     "text": [
      "[ 6  8 10 12 14]\n",
      "Result when subtracted by 3\n",
      "[ 3  5  7  9 11]\n"
     ]
    }
   ],
   "source": [
    "arr3 = np.arange(6,16,2)\n",
    "print(arr3)\n",
    "result2 = np.subtract(arr3, 3)\n",
    "print(\"Result when subtracted by 3\")\n",
    "print(result2)"
   ]
  },
  {
   "cell_type": "markdown",
   "id": "61801c07",
   "metadata": {},
   "source": [
    "### Indexing and Slicing:\n",
    "- Given a 1D array arr = np.array([10, 20, 30, 40, 50]), access the third \n",
    "element.\n",
    "- Slice a 1D array to get the first 3 elements.\n",
    "- Given a 2D array, extract the element from the second row and third column."
   ]
  },
  {
   "cell_type": "code",
   "execution_count": 36,
   "id": "44b33518",
   "metadata": {},
   "outputs": [
    {
     "name": "stdout",
     "output_type": "stream",
     "text": [
      "[10 20 30 40 50]\n",
      "The third elemet is 30\n",
      "The first theree elements are [10 20 30]\n",
      "[[11 12 13]\n",
      " [21 22 23]\n",
      " [31 32 33]]\n",
      "The element from 2nd row and 3rd column is 23\n"
     ]
    }
   ],
   "source": [
    "npArr = np.arange(10, 60, 10)\n",
    "print(npArr)\n",
    "print(f\"The third elemet is {npArr[2]}\")\n",
    "print(f\"The first theree elements are {npArr[:3]}\")\n",
    "np2Arr = np.array([\n",
    "    [11, 12, 13],\n",
    "    [21, 22, 23],\n",
    "    [31, 32, 33]\n",
    "])\n",
    "print(np2Arr)\n",
    "print(f\"The element from 2nd row and 3rd column is {np2Arr[1, 2]}\")"
   ]
  },
  {
   "cell_type": "markdown",
   "id": "4b72f37f",
   "metadata": {},
   "source": [
    "# Array Statistics:\n",
    "- Find the minimum and maximum value in a NumPy array: arr = np.array([2, 4, 6,\n",
    "8, 10]).\n",
    "- Calculate the sum and mean of the array: arr = np.array([3, 5, 7, 9])."
   ]
  },
  {
   "cell_type": "code",
   "execution_count": 47,
   "id": "2a7b2073",
   "metadata": {},
   "outputs": [
    {
     "name": "stdout",
     "output_type": "stream",
     "text": [
      "The maximum value of this array is 10\n",
      "The minimum value is 2\n",
      "The sum of this array is 30\n",
      "The mean of this array is 6.0\n"
     ]
    }
   ],
   "source": [
    "sArr = np.array([2, 4, 6,8, 10])\n",
    "print(f\"The maximum value of this array is {np.max(sArr)}\")\n",
    "print(f\"The minimum value is {np.min(sArr)}\")\n",
    "print(f\"The sum of this array is {np.sum(sArr)}\")\n",
    "print(f\"The mean of this array is {np.mean(sArr)}\")"
   ]
  },
  {
   "cell_type": "markdown",
   "id": "507e7bc4",
   "metadata": {},
   "source": [
    "## Reshaping and Flattening:\n",
    "- Reshape a 1D array arr = np.array([1, 2, 3, 4, 5, 6]) into a 2D array of shape\n",
    "(2, 3).\n",
    "- Flatten a 2D array arr = np.array([[1, 2, 3], [4, 5, 6]]) into a 1D array."
   ]
  },
  {
   "cell_type": "code",
   "execution_count": 52,
   "id": "b249f3c5",
   "metadata": {},
   "outputs": [
    {
     "name": "stdout",
     "output_type": "stream",
     "text": [
      "[1 2 3 4 5 6]\n",
      "The new reshaped 2D array is [[1 2 3]\n",
      " [4 5 6]]\n",
      "[[1 2 3]\n",
      " [4 5 6]]\n",
      "The flattern array is [1 2 3 4 5 6]\n"
     ]
    }
   ],
   "source": [
    "reArr = np.array([1, 2, 3, 4, 5, 6])\n",
    "newReArr = reArr.reshape(2,3)\n",
    "print(reArr)\n",
    "print(f\"The new reshaped 2D array is {newReArr}\")\n",
    "unRearr = np.array([[1, 2, 3], [4, 5, 6]])\n",
    "flatArr = unRearr.flatten()\n",
    "print(unRearr)\n",
    "print(f\"The flattern array is {flatArr}\")\n"
   ]
  },
  {
   "cell_type": "markdown",
   "id": "fbf53059",
   "metadata": {},
   "source": [
    "### Array Stacking:\n",
    " - Stack two 1D arrays [1, 2, 3] and [4, 5, 6] vertically and horizontally."
   ]
  },
  {
   "cell_type": "code",
   "execution_count": 55,
   "id": "67a2a6fc",
   "metadata": {},
   "outputs": [
    {
     "name": "stdout",
     "output_type": "stream",
     "text": [
      "Horizontal Stakc is [1 2 3 4 5 6]\n",
      "Verical Stack is [[1 2 3]\n",
      " [4 5 6]]\n"
     ]
    }
   ],
   "source": [
    "oneArr = [1,2,3]\n",
    "twoArr = [4,5,6]\n",
    "horArr = np.hstack((oneArr, twoArr))\n",
    "verArr = np.vstack((oneArr, twoArr))\n",
    "print(f\"Horizontal Stakc is {horArr}\")\n",
    "print(f\"Verical Stack is {verArr}\")"
   ]
  },
  {
   "cell_type": "markdown",
   "id": "c26878b3",
   "metadata": {},
   "source": [
    "## Mathematical Operations:\n",
    "- Perform element-wise addition and subtraction on two arrays: arr1 = np.array([2, 4,\n",
    "6]) and arr2 = np.array([1, 3, 5]).\n",
    "- Perform element-wise multiplication and division on two arrays: arr1 = np.array([2, \n",
    "4, 6]) and arr2 = np.array([1, 2, 3])."
   ]
  },
  {
   "cell_type": "code",
   "execution_count": null,
   "id": "0c076df8",
   "metadata": {},
   "outputs": [
    {
     "name": "stdout",
     "output_type": "stream",
     "text": [
      "The result of addition is [ 3  7 11]\n",
      "The result of division is [2.         1.33333333 1.2       ]\n",
      "The result of multiplication is [ 2 12 30]\n"
     ]
    }
   ],
   "source": [
    "arr1 = np.array([2,4,6])\n",
    "arr2 = np.array([1,3,5])\n",
    "addResult = np.add(arr1, arr2)\n",
    "print(f\"The result of addition is {addResult}\")\n",
    "print(f\"The result of division is {np.divide(arr1, arr2)}\")\n",
    "print(f\"The result of multiplication is {np.multiply(arr1, arr2)}\")"
   ]
  },
  {
   "cell_type": "markdown",
   "id": "471d5fb2",
   "metadata": {},
   "source": [
    "## Linear Algebra:\n",
    "- Calculate the dot product of two 1D arrays: arr1 = np.array([1, 2]) and arr2 = \n",
    "np.array([3, 4]).\n",
    "- Multiply two matrices using np.dot(). Given matrices A = np.array([[1, 2], [3,\n",
    "4]]) and B = np.array([[5, 6], [7, 8]]), compute their dot product.\n"
   ]
  },
  {
   "cell_type": "code",
   "execution_count": 58,
   "id": "4f3aa111",
   "metadata": {},
   "outputs": [
    {
     "name": "stdout",
     "output_type": "stream",
     "text": [
      "The dot product of two array is : 44\n"
     ]
    }
   ],
   "source": [
    "arr4 = np.array([1, 2]) \n",
    "arr5 = np.array([3, 4])\n",
    "print(f\"The dot product of two array is : {np.dot(arr1, arr2)}\")"
   ]
  },
  {
   "cell_type": "code",
   "execution_count": null,
   "id": "19cced27",
   "metadata": {},
   "outputs": [],
   "source": []
  }
 ],
 "metadata": {
  "kernelspec": {
   "display_name": "ml_transformers",
   "language": "python",
   "name": "python3"
  },
  "language_info": {
   "codemirror_mode": {
    "name": "ipython",
    "version": 3
   },
   "file_extension": ".py",
   "mimetype": "text/x-python",
   "name": "python",
   "nbconvert_exporter": "python",
   "pygments_lexer": "ipython3",
   "version": "3.9.19"
  }
 },
 "nbformat": 4,
 "nbformat_minor": 5
}
