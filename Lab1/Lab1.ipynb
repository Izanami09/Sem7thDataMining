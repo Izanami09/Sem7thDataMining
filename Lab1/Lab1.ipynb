{
 "cells": [
  {
   "cell_type": "code",
   "execution_count": 1,
   "id": "069e3fd0",
   "metadata": {},
   "outputs": [],
   "source": [
    "import pandas as pd"
   ]
  },
  {
   "cell_type": "code",
   "execution_count": 2,
   "id": "27603d43",
   "metadata": {},
   "outputs": [
    {
     "name": "stdout",
     "output_type": "stream",
     "text": [
      "      Name  Math  Science  English\n",
      "0    Alice    85       95       84\n",
      "1      Bob    90       92       80\n",
      "2  Charlie    78       87       60\n",
      "3    David    88       89       84\n",
      "4      Eve    92       94       90\n"
     ]
    }
   ],
   "source": [
    "# Creating a DataFrame\n",
    "data = {\n",
    "    'Name': ['Alice', 'Bob', 'Charlie', 'David', 'Eve'],\n",
    "    'Math': [85, 90, 78, 88, 92],\n",
    "    'Science': [95, 92, 87, 89, 94],\n",
    "    'English': [84, 80, 60, 84, 90],\n",
    "}\n",
    "\n",
    "df = pd.DataFrame(data)\n",
    "print(df)"
   ]
  },
  {
   "cell_type": "code",
   "execution_count": 4,
   "id": "e08fd2ce",
   "metadata": {},
   "outputs": [
    {
     "data": {
      "text/html": [
       "<div>\n",
       "<style scoped>\n",
       "    .dataframe tbody tr th:only-of-type {\n",
       "        vertical-align: middle;\n",
       "    }\n",
       "\n",
       "    .dataframe tbody tr th {\n",
       "        vertical-align: top;\n",
       "    }\n",
       "\n",
       "    .dataframe thead th {\n",
       "        text-align: right;\n",
       "    }\n",
       "</style>\n",
       "<table border=\"1\" class=\"dataframe\">\n",
       "  <thead>\n",
       "    <tr style=\"text-align: right;\">\n",
       "      <th></th>\n",
       "      <th>Name</th>\n",
       "      <th>Math</th>\n",
       "      <th>Science</th>\n",
       "      <th>English</th>\n",
       "    </tr>\n",
       "  </thead>\n",
       "  <tbody>\n",
       "    <tr>\n",
       "      <th>0</th>\n",
       "      <td>Alice</td>\n",
       "      <td>85</td>\n",
       "      <td>95</td>\n",
       "      <td>84</td>\n",
       "    </tr>\n",
       "    <tr>\n",
       "      <th>1</th>\n",
       "      <td>Bob</td>\n",
       "      <td>90</td>\n",
       "      <td>92</td>\n",
       "      <td>80</td>\n",
       "    </tr>\n",
       "    <tr>\n",
       "      <th>2</th>\n",
       "      <td>Charlie</td>\n",
       "      <td>78</td>\n",
       "      <td>87</td>\n",
       "      <td>60</td>\n",
       "    </tr>\n",
       "  </tbody>\n",
       "</table>\n",
       "</div>"
      ],
      "text/plain": [
       "      Name  Math  Science  English\n",
       "0    Alice    85       95       84\n",
       "1      Bob    90       92       80\n",
       "2  Charlie    78       87       60"
      ]
     },
     "execution_count": 4,
     "metadata": {},
     "output_type": "execute_result"
    }
   ],
   "source": [
    "# Display first three rows\n",
    "df.head(3)"
   ]
  },
  {
   "cell_type": "code",
   "execution_count": 5,
   "id": "ecb5844f",
   "metadata": {},
   "outputs": [
    {
     "data": {
      "text/html": [
       "<div>\n",
       "<style scoped>\n",
       "    .dataframe tbody tr th:only-of-type {\n",
       "        vertical-align: middle;\n",
       "    }\n",
       "\n",
       "    .dataframe tbody tr th {\n",
       "        vertical-align: top;\n",
       "    }\n",
       "\n",
       "    .dataframe thead th {\n",
       "        text-align: right;\n",
       "    }\n",
       "</style>\n",
       "<table border=\"1\" class=\"dataframe\">\n",
       "  <thead>\n",
       "    <tr style=\"text-align: right;\">\n",
       "      <th></th>\n",
       "      <th>Name</th>\n",
       "      <th>Math</th>\n",
       "      <th>Science</th>\n",
       "      <th>English</th>\n",
       "    </tr>\n",
       "  </thead>\n",
       "  <tbody>\n",
       "    <tr>\n",
       "      <th>2</th>\n",
       "      <td>Charlie</td>\n",
       "      <td>78</td>\n",
       "      <td>87</td>\n",
       "      <td>60</td>\n",
       "    </tr>\n",
       "    <tr>\n",
       "      <th>3</th>\n",
       "      <td>David</td>\n",
       "      <td>88</td>\n",
       "      <td>89</td>\n",
       "      <td>84</td>\n",
       "    </tr>\n",
       "    <tr>\n",
       "      <th>4</th>\n",
       "      <td>Eve</td>\n",
       "      <td>92</td>\n",
       "      <td>94</td>\n",
       "      <td>90</td>\n",
       "    </tr>\n",
       "  </tbody>\n",
       "</table>\n",
       "</div>"
      ],
      "text/plain": [
       "      Name  Math  Science  English\n",
       "2  Charlie    78       87       60\n",
       "3    David    88       89       84\n",
       "4      Eve    92       94       90"
      ]
     },
     "execution_count": 5,
     "metadata": {},
     "output_type": "execute_result"
    }
   ],
   "source": [
    "# Display bottom three rows\n",
    "df.tail(3)"
   ]
  },
  {
   "cell_type": "code",
   "execution_count": 13,
   "id": "d38eb7ec",
   "metadata": {},
   "outputs": [
    {
     "data": {
      "text/html": [
       "<div>\n",
       "<style scoped>\n",
       "    .dataframe tbody tr th:only-of-type {\n",
       "        vertical-align: middle;\n",
       "    }\n",
       "\n",
       "    .dataframe tbody tr th {\n",
       "        vertical-align: top;\n",
       "    }\n",
       "\n",
       "    .dataframe thead th {\n",
       "        text-align: right;\n",
       "    }\n",
       "</style>\n",
       "<table border=\"1\" class=\"dataframe\">\n",
       "  <thead>\n",
       "    <tr style=\"text-align: right;\">\n",
       "      <th></th>\n",
       "      <th>Name</th>\n",
       "      <th>Math</th>\n",
       "      <th>Science</th>\n",
       "      <th>English</th>\n",
       "    </tr>\n",
       "  </thead>\n",
       "  <tbody>\n",
       "    <tr>\n",
       "      <th>1</th>\n",
       "      <td>Bob</td>\n",
       "      <td>90</td>\n",
       "      <td>92</td>\n",
       "      <td>80</td>\n",
       "    </tr>\n",
       "    <tr>\n",
       "      <th>4</th>\n",
       "      <td>Eve</td>\n",
       "      <td>92</td>\n",
       "      <td>94</td>\n",
       "      <td>90</td>\n",
       "    </tr>\n",
       "    <tr>\n",
       "      <th>2</th>\n",
       "      <td>Charlie</td>\n",
       "      <td>78</td>\n",
       "      <td>87</td>\n",
       "      <td>60</td>\n",
       "    </tr>\n",
       "  </tbody>\n",
       "</table>\n",
       "</div>"
      ],
      "text/plain": [
       "      Name  Math  Science  English\n",
       "1      Bob    90       92       80\n",
       "4      Eve    92       94       90\n",
       "2  Charlie    78       87       60"
      ]
     },
     "execution_count": 13,
     "metadata": {},
     "output_type": "execute_result"
    }
   ],
   "source": [
    "# Display random samples\n",
    "df.sample(n=3, random_state=42)"
   ]
  },
  {
   "cell_type": "code",
   "execution_count": 16,
   "id": "c602d629",
   "metadata": {},
   "outputs": [
    {
     "name": "stdout",
     "output_type": "stream",
     "text": [
      "<class 'pandas.core.frame.DataFrame'>\n",
      "RangeIndex: 5 entries, 0 to 4\n",
      "Data columns (total 4 columns):\n",
      " #   Column   Non-Null Count  Dtype \n",
      "---  ------   --------------  ----- \n",
      " 0   Name     5 non-null      object\n",
      " 1   Math     5 non-null      int64 \n",
      " 2   Science  5 non-null      int64 \n",
      " 3   English  5 non-null      int64 \n",
      "dtypes: int64(3), object(1)\n",
      "memory usage: 292.0+ bytes\n"
     ]
    }
   ],
   "source": [
    "# View the info\n",
    "df.info()"
   ]
  },
  {
   "cell_type": "code",
   "execution_count": 21,
   "id": "f42cc597",
   "metadata": {},
   "outputs": [
    {
     "data": {
      "text/plain": [
       "0    264\n",
       "1    262\n",
       "2    225\n",
       "3    261\n",
       "4    276\n",
       "dtype: int64"
      ]
     },
     "execution_count": 21,
     "metadata": {},
     "output_type": "execute_result"
    }
   ],
   "source": [
    "df[['Math', 'Science', 'English']].sum(axis=1)"
   ]
  },
  {
   "cell_type": "code",
   "execution_count": 18,
   "id": "d0c3ac10",
   "metadata": {},
   "outputs": [
    {
     "name": "stdout",
     "output_type": "stream",
     "text": [
      "      Name  Math  Science  English  Total Score\n",
      "0    Alice    85       95       84          264\n",
      "1      Bob    90       92       80          262\n",
      "2  Charlie    78       87       60          225\n",
      "3    David    88       89       84          261\n",
      "4      Eve    92       94       90          276\n"
     ]
    }
   ],
   "source": [
    "# Add 'Total Score' column\n",
    "df['Total Score'] = df[['Math', 'Science', 'English']].sum(axis=1)\n",
    "print(df)"
   ]
  },
  {
   "cell_type": "code",
   "execution_count": 25,
   "id": "b1c5e8cb",
   "metadata": {},
   "outputs": [
    {
     "name": "stdout",
     "output_type": "stream",
     "text": [
      "      Name  Math  Science  Total Score\n",
      "0    Alice    85       95          264\n",
      "1      Bob    90       92          262\n",
      "2  Charlie    78       87          225\n",
      "3    David    88       89          261\n",
      "4      Eve    92       94          276\n"
     ]
    }
   ],
   "source": [
    "# Drop 'English' column\n",
    "df.drop(columns=['English'], inplace=True)\n",
    "print(df)"
   ]
  },
  {
   "cell_type": "code",
   "execution_count": 28,
   "id": "4fa05f31",
   "metadata": {},
   "outputs": [
    {
     "name": "stdout",
     "output_type": "stream",
     "text": [
      "      Name  Mathematics  Science  Total Score\n",
      "0    Alice           85       95          264\n",
      "1      Bob           90       92          262\n",
      "2  Charlie           78       87          225\n",
      "3    David           88       89          261\n",
      "4      Eve           92       94          276\n"
     ]
    }
   ],
   "source": [
    "# Rename 'Math' to 'Mathematics'\n",
    "df.rename(columns={'Math': 'Mathematics'}, inplace=True)\n",
    "print(df)"
   ]
  },
  {
   "cell_type": "code",
   "execution_count": 29,
   "id": "18afe511",
   "metadata": {},
   "outputs": [
    {
     "name": "stdout",
     "output_type": "stream",
     "text": [
      "<class 'pandas.core.frame.DataFrame'>\n",
      "RangeIndex: 10 entries, 0 to 9\n",
      "Data columns (total 4 columns):\n",
      " #   Column   Non-Null Count  Dtype  \n",
      "---  ------   --------------  -----  \n",
      " 0   Name     10 non-null     object \n",
      " 1   Math     9 non-null      float64\n",
      " 2   Science  10 non-null     int64  \n",
      " 3   English  9 non-null      float64\n",
      "dtypes: float64(2), int64(1), object(1)\n",
      "memory usage: 452.0+ bytes\n",
      "None\n"
     ]
    }
   ],
   "source": [
    "# Load csv file\n",
    "df = pd.read_csv('data/students.csv')\n",
    "print(df.info())"
   ]
  },
  {
   "cell_type": "code",
   "execution_count": 30,
   "id": "7e2fb9ee",
   "metadata": {},
   "outputs": [
    {
     "name": "stdout",
     "output_type": "stream",
     "text": [
      "            Math    Science    English\n",
      "count   9.000000  10.000000   9.000000\n",
      "mean   85.111111  86.300000  86.000000\n",
      "std     6.213784   5.598611   6.164414\n",
      "min    75.000000  78.000000  78.000000\n",
      "25%    80.000000  81.250000  82.000000\n",
      "50%    87.000000  87.000000  85.000000\n",
      "75%    89.000000  89.750000  91.000000\n",
      "max    94.000000  95.000000  96.000000\n"
     ]
    }
   ],
   "source": [
    "# Summary \n",
    "print(df.describe())"
   ]
  },
  {
   "cell_type": "code",
   "execution_count": null,
   "id": "cc08a8f0",
   "metadata": {},
   "outputs": [
    {
     "name": "stdout",
     "output_type": "stream",
     "text": [
      "Name       0\n",
      "Math       1\n",
      "Science    0\n",
      "English    1\n",
      "dtype: int64\n"
     ]
    }
   ],
   "source": [
    "# Check missing value\n",
    "print(df.isnull().sum())"
   ]
  },
  {
   "cell_type": "code",
   "execution_count": 35,
   "id": "96fc7875",
   "metadata": {},
   "outputs": [
    {
     "name": "stdout",
     "output_type": "stream",
     "text": [
      "      Name       Math  Science  English\n",
      "0    Alice  85.000000       80     78.0\n",
      "1      Bob  90.000000       85     82.0\n",
      "2  Charlie  78.000000       89     88.0\n",
      "3    David  88.000000       92     91.0\n",
      "4      Eve  85.111111       86     79.0\n",
      "5    Frank  75.000000       80     85.0\n",
      "6    Grace  89.000000       90     92.0\n",
      "7   Hannah  94.000000       95     96.0\n",
      "8      Ian  87.000000       88      NaN\n",
      "9     Jack  80.000000       78     83.0\n"
     ]
    }
   ],
   "source": [
    "# Fill missing values in numeric columns (with mean)\n",
    "df['Math'] = df['Math'].fillna(df['Math'].mean())\n",
    "print(df)"
   ]
  },
  {
   "cell_type": "code",
   "execution_count": 36,
   "id": "0f85a719",
   "metadata": {},
   "outputs": [
    {
     "name": "stdout",
     "output_type": "stream",
     "text": [
      "Name       0\n",
      "Math       0\n",
      "Science    0\n",
      "English    1\n",
      "dtype: int64\n"
     ]
    }
   ],
   "source": [
    "# Check missing value\n",
    "print(df.isnull().sum())"
   ]
  },
  {
   "cell_type": "code",
   "execution_count": 37,
   "id": "cda937ba",
   "metadata": {},
   "outputs": [
    {
     "name": "stdout",
     "output_type": "stream",
     "text": [
      "      Name       Math  Science  English\n",
      "0    Alice  85.000000       80     78.0\n",
      "1      Bob  90.000000       85     82.0\n",
      "2  Charlie  78.000000       89     88.0\n",
      "3    David  88.000000       92     91.0\n",
      "4      Eve  85.111111       86     79.0\n",
      "5    Frank  75.000000       80     85.0\n",
      "6    Grace  89.000000       90     92.0\n",
      "7   Hannah  94.000000       95     96.0\n",
      "8      Ian  87.000000       88     86.0\n",
      "9     Jack  80.000000       78     83.0\n"
     ]
    }
   ],
   "source": [
    "# Fill missing values in numeric columns (with mean)\n",
    "df['English'] = df['English'].fillna(df['English'].mean())\n",
    "print(df)"
   ]
  },
  {
   "cell_type": "code",
   "execution_count": 40,
   "id": "8222f58e",
   "metadata": {},
   "outputs": [
    {
     "name": "stdout",
     "output_type": "stream",
     "text": [
      "<class 'pandas.core.frame.DataFrame'>\n",
      "RangeIndex: 10 entries, 0 to 9\n",
      "Data columns (total 5 columns):\n",
      " #   Column       Non-Null Count  Dtype \n",
      "---  ------       --------------  ----- \n",
      " 0   Customer_ID  10 non-null     int64 \n",
      " 1   Name         10 non-null     object\n",
      " 2   Age          10 non-null     int64 \n",
      " 3   Email        9 non-null      object\n",
      " 4   City         9 non-null      object\n",
      "dtypes: int64(2), object(3)\n",
      "memory usage: 532.0+ bytes\n",
      "None\n"
     ]
    }
   ],
   "source": [
    "import pandas as pd \n",
    "\n",
    "customer_df = pd.read_csv('data/customers.csv')\n",
    "print(customer_df.info())"
   ]
  },
  {
   "cell_type": "code",
   "execution_count": null,
   "id": "848e3b1f",
   "metadata": {},
   "outputs": [
    {
     "name": "stdout",
     "output_type": "stream",
     "text": [
      "Customer_ID    0\n",
      "Name           0\n",
      "Age            0\n",
      "Email          1\n",
      "City           1\n",
      "dtype: int64\n"
     ]
    }
   ],
   "source": [
    "print(customer_df.isnull().sum())"
   ]
  },
  {
   "cell_type": "code",
   "execution_count": 45,
   "id": "ee337813",
   "metadata": {},
   "outputs": [
    {
     "name": "stdout",
     "output_type": "stream",
     "text": [
      "<class 'pandas.core.frame.DataFrame'>\n",
      "Index: 9 entries, 0 to 9\n",
      "Data columns (total 5 columns):\n",
      " #   Column       Non-Null Count  Dtype \n",
      "---  ------       --------------  ----- \n",
      " 0   Customer_ID  9 non-null      int64 \n",
      " 1   Name         9 non-null      object\n",
      " 2   Age          9 non-null      int64 \n",
      " 3   Email        9 non-null      object\n",
      " 4   City         8 non-null      object\n",
      "dtypes: int64(2), object(3)\n",
      "memory usage: 432.0+ bytes\n",
      "None\n"
     ]
    }
   ],
   "source": [
    "# Drop rows with missing 'Email'\n",
    "customer_df = customer_df.dropna(subset=['Email'])\n",
    "print(customer_df.info())"
   ]
  },
  {
   "cell_type": "code",
   "execution_count": 46,
   "id": "fc60b506",
   "metadata": {},
   "outputs": [
    {
     "data": {
      "text/plain": [
       "0           Boston\n",
       "1          Chicago\n",
       "2          Houston\n",
       "3      Los Angeles\n",
       "4            Miami\n",
       "5         New York\n",
       "6    San Francisco\n",
       "7          Seattle\n",
       "Name: City, dtype: object"
      ]
     },
     "execution_count": 46,
     "metadata": {},
     "output_type": "execute_result"
    }
   ],
   "source": [
    "customer_df['City'].mode()"
   ]
  },
  {
   "cell_type": "code",
   "execution_count": 49,
   "id": "f7d7885f",
   "metadata": {},
   "outputs": [
    {
     "name": "stdout",
     "output_type": "stream",
     "text": [
      "   Customer_ID     Name  Age                Email           City\n",
      "0            1    Alice   28    alice@example.com       New York\n",
      "1            2      Bob   35      bob@example.com    Los Angeles\n",
      "2            3  Charlie   22  charlie@example.com  San Francisco\n",
      "3            4    David   40    david@example.com        Chicago\n",
      "4            5      Eve   29      eve@example.com        Houston\n",
      "5            6    Frank   32    frank@example.com          Miami\n",
      "6            7    Grace   27    grace@example.com        Seattle\n",
      "7            8   Hannah   38   hannah@example.com         Boston\n",
      "9           10     Jack   30     jack@example.com        Unknown\n"
     ]
    }
   ],
   "source": [
    "customer_df['City'] = customer_df['City'].fillna('Unknown')\n",
    "print(customer_df)"
   ]
  },
  {
   "cell_type": "code",
   "execution_count": 54,
   "id": "59ba5c69",
   "metadata": {},
   "outputs": [],
   "source": [
    "# Storing the changed DataFrame\n",
    "customer_df.to_csv(\"output_customers.csv\", index=False)"
   ]
  },
  {
   "cell_type": "code",
   "execution_count": 55,
   "id": "d8cdeea6",
   "metadata": {},
   "outputs": [
    {
     "name": "stdout",
     "output_type": "stream",
     "text": [
      "<class 'pandas.core.frame.DataFrame'>\n",
      "RangeIndex: 100 entries, 0 to 99\n",
      "Data columns (total 7 columns):\n",
      " #   Column            Non-Null Count  Dtype  \n",
      "---  ------            --------------  -----  \n",
      " 0   ID                100 non-null    int64  \n",
      " 1   Name              100 non-null    object \n",
      " 2   Age               91 non-null     float64\n",
      " 3   Salary            93 non-null     float64\n",
      " 4   Department        100 non-null    object \n",
      " 5   Joining_Date      100 non-null    object \n",
      " 6   Experience_Years  100 non-null    int64  \n",
      "dtypes: float64(2), int64(2), object(3)\n",
      "memory usage: 5.6+ KB\n",
      "None\n"
     ]
    }
   ],
   "source": [
    "# Load 'employee.csv' and check and resolve missing values if any\n",
    "df = pd.read_csv('data/employee.csv')\n",
    "print(df.info())"
   ]
  },
  {
   "cell_type": "code",
   "execution_count": 56,
   "id": "4180427a",
   "metadata": {},
   "outputs": [
    {
     "name": "stdout",
     "output_type": "stream",
     "text": [
      "ID                  0\n",
      "Name                0\n",
      "Age                 9\n",
      "Salary              7\n",
      "Department          0\n",
      "Joining_Date        0\n",
      "Experience_Years    0\n",
      "dtype: int64\n"
     ]
    }
   ],
   "source": [
    "print(df.isnull().sum())"
   ]
  },
  {
   "cell_type": "code",
   "execution_count": 58,
   "id": "4072b068",
   "metadata": {},
   "outputs": [
    {
     "name": "stdout",
     "output_type": "stream",
     "text": [
      "     ID   Name   Age   Salary Department Joining_Date  Experience_Years\n",
      "0     1    Eve  25.0  55000.0    Finance   2015-01-31                 2\n",
      "1     2    Bob  35.0  65000.0  Marketing   2015-02-28                 6\n",
      "2     3  David  40.0  60000.0    Finance   2015-03-31                 3\n",
      "3     4  David  30.0  70000.0    Finance   2015-04-30                 2\n",
      "4     5  Frank  40.0  70000.0    Finance   2015-05-31                13\n",
      "..  ...    ...   ...      ...        ...          ...               ...\n",
      "95   96  Helen  45.0  90000.0      Sales   2022-12-31                 9\n",
      "96   97   Jack  30.0  80000.0  Marketing   2023-01-31                 6\n",
      "97   98    Eve  25.0  70000.0      Sales   2023-02-28                 1\n",
      "98   99  Grace  50.0  70000.0         IT   2023-03-31                12\n",
      "99  100  Grace  50.0  72000.0         IT   2023-04-30                12\n",
      "\n",
      "[100 rows x 7 columns]\n"
     ]
    }
   ],
   "source": [
    "df['Age'] = df['Age'].fillna(df['Age'].mode()[0])\n",
    "print(df)"
   ]
  },
  {
   "cell_type": "code",
   "execution_count": 61,
   "id": "2a331cdd",
   "metadata": {},
   "outputs": [
    {
     "name": "stdout",
     "output_type": "stream",
     "text": [
      "     ID   Name   Age   Salary Department Joining_Date  Experience_Years\n",
      "0     1    Eve  25.0  55000.0    Finance   2015-01-31                 2\n",
      "1     2    Bob  35.0  65000.0  Marketing   2015-02-28                 6\n",
      "2     3  David  40.0  60000.0    Finance   2015-03-31                 3\n",
      "3     4  David  30.0  70000.0    Finance   2015-04-30                 2\n",
      "4     5  Frank  40.0  70000.0    Finance   2015-05-31                13\n",
      "..  ...    ...   ...      ...        ...          ...               ...\n",
      "95   96  Helen  45.0  90000.0      Sales   2022-12-31                 9\n",
      "96   97   Jack  30.0  80000.0  Marketing   2023-01-31                 6\n",
      "97   98    Eve  25.0  70000.0      Sales   2023-02-28                 1\n",
      "98   99  Grace  50.0  70000.0         IT   2023-03-31                12\n",
      "99  100  Grace  50.0  72000.0         IT   2023-04-30                12\n",
      "\n",
      "[100 rows x 7 columns]\n"
     ]
    }
   ],
   "source": [
    "df['Salary'] = df['Salary'].fillna(df['Salary'].median())\n",
    "print(df)"
   ]
  },
  {
   "cell_type": "code",
   "execution_count": 62,
   "id": "8a9024f5",
   "metadata": {},
   "outputs": [
    {
     "name": "stdout",
     "output_type": "stream",
     "text": [
      "ID                  0\n",
      "Name                0\n",
      "Age                 0\n",
      "Salary              0\n",
      "Department          0\n",
      "Joining_Date        0\n",
      "Experience_Years    0\n",
      "dtype: int64\n"
     ]
    }
   ],
   "source": [
    "print(df.isnull().sum())"
   ]
  },
  {
   "cell_type": "code",
   "execution_count": 64,
   "id": "cdeae1bc",
   "metadata": {},
   "outputs": [],
   "source": [
    "# Drop rows where any NaN values exist\n",
    "df_clean = df.dropna()"
   ]
  },
  {
   "cell_type": "code",
   "execution_count": 67,
   "id": "7d76d5bd",
   "metadata": {},
   "outputs": [
    {
     "data": {
      "text/html": [
       "<div>\n",
       "<style scoped>\n",
       "    .dataframe tbody tr th:only-of-type {\n",
       "        vertical-align: middle;\n",
       "    }\n",
       "\n",
       "    .dataframe tbody tr th {\n",
       "        vertical-align: top;\n",
       "    }\n",
       "\n",
       "    .dataframe thead th {\n",
       "        text-align: right;\n",
       "    }\n",
       "</style>\n",
       "<table border=\"1\" class=\"dataframe\">\n",
       "  <thead>\n",
       "    <tr style=\"text-align: right;\">\n",
       "      <th></th>\n",
       "      <th>ID</th>\n",
       "      <th>Name</th>\n",
       "      <th>Age</th>\n",
       "      <th>Salary</th>\n",
       "      <th>Department</th>\n",
       "      <th>Joining_Date</th>\n",
       "      <th>Experience_Years</th>\n",
       "    </tr>\n",
       "  </thead>\n",
       "  <tbody>\n",
       "    <tr>\n",
       "      <th>83</th>\n",
       "      <td>84</td>\n",
       "      <td>David</td>\n",
       "      <td>40.0</td>\n",
       "      <td>55000.0</td>\n",
       "      <td>Finance</td>\n",
       "      <td>2021-12-31</td>\n",
       "      <td>4</td>\n",
       "    </tr>\n",
       "  </tbody>\n",
       "</table>\n",
       "</div>"
      ],
      "text/plain": [
       "    ID   Name   Age   Salary Department Joining_Date  Experience_Years\n",
       "83  84  David  40.0  55000.0    Finance   2021-12-31                 4"
      ]
     },
     "execution_count": 67,
     "metadata": {},
     "output_type": "execute_result"
    }
   ],
   "source": [
    "df.sample(random_state=42)"
   ]
  },
  {
   "cell_type": "code",
   "execution_count": 69,
   "id": "63d389f6",
   "metadata": {},
   "outputs": [
    {
     "data": {
      "text/html": [
       "<div>\n",
       "<style scoped>\n",
       "    .dataframe tbody tr th:only-of-type {\n",
       "        vertical-align: middle;\n",
       "    }\n",
       "\n",
       "    .dataframe tbody tr th {\n",
       "        vertical-align: top;\n",
       "    }\n",
       "\n",
       "    .dataframe thead th {\n",
       "        text-align: right;\n",
       "    }\n",
       "</style>\n",
       "<table border=\"1\" class=\"dataframe\">\n",
       "  <thead>\n",
       "    <tr style=\"text-align: right;\">\n",
       "      <th></th>\n",
       "      <th>ID</th>\n",
       "      <th>Name</th>\n",
       "      <th>Age</th>\n",
       "      <th>Salary</th>\n",
       "      <th>Department</th>\n",
       "      <th>Joining_Date</th>\n",
       "      <th>Experience_Years</th>\n",
       "      <th>Age in 5 years</th>\n",
       "    </tr>\n",
       "  </thead>\n",
       "  <tbody>\n",
       "    <tr>\n",
       "      <th>83</th>\n",
       "      <td>84</td>\n",
       "      <td>David</td>\n",
       "      <td>40.0</td>\n",
       "      <td>55000.0</td>\n",
       "      <td>Finance</td>\n",
       "      <td>2021-12-31</td>\n",
       "      <td>4</td>\n",
       "      <td>45.0</td>\n",
       "    </tr>\n",
       "  </tbody>\n",
       "</table>\n",
       "</div>"
      ],
      "text/plain": [
       "    ID   Name   Age   Salary Department Joining_Date  Experience_Years  \\\n",
       "83  84  David  40.0  55000.0    Finance   2021-12-31                 4   \n",
       "\n",
       "    Age in 5 years  \n",
       "83            45.0  "
      ]
     },
     "execution_count": 69,
     "metadata": {},
     "output_type": "execute_result"
    }
   ],
   "source": [
    "# Add a new column \"Age in 5 years\"\n",
    "df['Age in 5 years'] = df['Age'] + 5\n",
    "df.sample(random_state=42)\n"
   ]
  },
  {
   "cell_type": "code",
   "execution_count": 70,
   "id": "61f5c857",
   "metadata": {},
   "outputs": [],
   "source": [
    "# Drop the 'Age in 5 years' column\n",
    "df = df.drop(columns=['Age in 5 years'])"
   ]
  },
  {
   "cell_type": "code",
   "execution_count": 72,
   "id": "5601fa5c",
   "metadata": {},
   "outputs": [
    {
     "data": {
      "text/html": [
       "<div>\n",
       "<style scoped>\n",
       "    .dataframe tbody tr th:only-of-type {\n",
       "        vertical-align: middle;\n",
       "    }\n",
       "\n",
       "    .dataframe tbody tr th {\n",
       "        vertical-align: top;\n",
       "    }\n",
       "\n",
       "    .dataframe thead th {\n",
       "        text-align: right;\n",
       "    }\n",
       "</style>\n",
       "<table border=\"1\" class=\"dataframe\">\n",
       "  <thead>\n",
       "    <tr style=\"text-align: right;\">\n",
       "      <th></th>\n",
       "      <th>ID</th>\n",
       "      <th>Name</th>\n",
       "      <th>Age</th>\n",
       "      <th>Salary</th>\n",
       "      <th>Department</th>\n",
       "      <th>Joining_Date</th>\n",
       "      <th>Experience_Years</th>\n",
       "    </tr>\n",
       "  </thead>\n",
       "  <tbody>\n",
       "    <tr>\n",
       "      <th>30</th>\n",
       "      <td>31</td>\n",
       "      <td>Eve</td>\n",
       "      <td>45.0</td>\n",
       "      <td>72000.0</td>\n",
       "      <td>HR</td>\n",
       "      <td>2017-07-31</td>\n",
       "      <td>11</td>\n",
       "    </tr>\n",
       "    <tr>\n",
       "      <th>94</th>\n",
       "      <td>95</td>\n",
       "      <td>Bob</td>\n",
       "      <td>50.0</td>\n",
       "      <td>50000.0</td>\n",
       "      <td>HR</td>\n",
       "      <td>2022-11-30</td>\n",
       "      <td>4</td>\n",
       "    </tr>\n",
       "    <tr>\n",
       "      <th>98</th>\n",
       "      <td>99</td>\n",
       "      <td>Grace</td>\n",
       "      <td>50.0</td>\n",
       "      <td>70000.0</td>\n",
       "      <td>IT</td>\n",
       "      <td>2023-03-31</td>\n",
       "      <td>12</td>\n",
       "    </tr>\n",
       "  </tbody>\n",
       "</table>\n",
       "</div>"
      ],
      "text/plain": [
       "    ID   Name   Age   Salary Department Joining_Date  Experience_Years\n",
       "30  31    Eve  45.0  72000.0         HR   2017-07-31                11\n",
       "94  95    Bob  50.0  50000.0         HR   2022-11-30                 4\n",
       "98  99  Grace  50.0  70000.0         IT   2023-03-31                12"
      ]
     },
     "execution_count": 72,
     "metadata": {},
     "output_type": "execute_result"
    }
   ],
   "source": [
    "# Filtering rows where Age is greater than 40\n",
    "df_filtered_age = df[df['Age'] > 40]\n",
    "df_filtered_age.sample(n=3, random_state=42)"
   ]
  },
  {
   "cell_type": "code",
   "execution_count": 74,
   "id": "cb2c4b25",
   "metadata": {},
   "outputs": [
    {
     "data": {
      "text/html": [
       "<div>\n",
       "<style scoped>\n",
       "    .dataframe tbody tr th:only-of-type {\n",
       "        vertical-align: middle;\n",
       "    }\n",
       "\n",
       "    .dataframe tbody tr th {\n",
       "        vertical-align: top;\n",
       "    }\n",
       "\n",
       "    .dataframe thead th {\n",
       "        text-align: right;\n",
       "    }\n",
       "</style>\n",
       "<table border=\"1\" class=\"dataframe\">\n",
       "  <thead>\n",
       "    <tr style=\"text-align: right;\">\n",
       "      <th></th>\n",
       "      <th>ID</th>\n",
       "      <th>Name</th>\n",
       "      <th>Age</th>\n",
       "      <th>Salary</th>\n",
       "      <th>Department</th>\n",
       "      <th>Joining_Date</th>\n",
       "      <th>Experience_Years</th>\n",
       "    </tr>\n",
       "  </thead>\n",
       "  <tbody>\n",
       "    <tr>\n",
       "      <th>71</th>\n",
       "      <td>72</td>\n",
       "      <td>Grace</td>\n",
       "      <td>50.0</td>\n",
       "      <td>60000.0</td>\n",
       "      <td>Marketing</td>\n",
       "      <td>2020-12-31</td>\n",
       "      <td>6</td>\n",
       "    </tr>\n",
       "    <tr>\n",
       "      <th>40</th>\n",
       "      <td>41</td>\n",
       "      <td>Eve</td>\n",
       "      <td>35.0</td>\n",
       "      <td>60000.0</td>\n",
       "      <td>Finance</td>\n",
       "      <td>2018-05-31</td>\n",
       "      <td>9</td>\n",
       "    </tr>\n",
       "    <tr>\n",
       "      <th>67</th>\n",
       "      <td>68</td>\n",
       "      <td>Helen</td>\n",
       "      <td>50.0</td>\n",
       "      <td>60000.0</td>\n",
       "      <td>Finance</td>\n",
       "      <td>2020-08-31</td>\n",
       "      <td>14</td>\n",
       "    </tr>\n",
       "  </tbody>\n",
       "</table>\n",
       "</div>"
      ],
      "text/plain": [
       "    ID   Name   Age   Salary Department Joining_Date  Experience_Years\n",
       "71  72  Grace  50.0  60000.0  Marketing   2020-12-31                 6\n",
       "40  41    Eve  35.0  60000.0    Finance   2018-05-31                 9\n",
       "67  68  Helen  50.0  60000.0    Finance   2020-08-31                14"
      ]
     },
     "execution_count": 74,
     "metadata": {},
     "output_type": "execute_result"
    }
   ],
   "source": [
    "# Filter rows where Salary is less than 70,000 and Experience is greater than 5 years\n",
    "df_filtered_salary_experience = df[(df['Salary'] < 70000) & (df['Experience_Years'] > 5)]\n",
    "df_filtered_salary_experience.sample(n=3, random_state=42)"
   ]
  },
  {
   "cell_type": "code",
   "execution_count": 75,
   "id": "448b162d",
   "metadata": {},
   "outputs": [
    {
     "data": {
      "text/html": [
       "<div>\n",
       "<style scoped>\n",
       "    .dataframe tbody tr th:only-of-type {\n",
       "        vertical-align: middle;\n",
       "    }\n",
       "\n",
       "    .dataframe tbody tr th {\n",
       "        vertical-align: top;\n",
       "    }\n",
       "\n",
       "    .dataframe thead th {\n",
       "        text-align: right;\n",
       "    }\n",
       "</style>\n",
       "<table border=\"1\" class=\"dataframe\">\n",
       "  <thead>\n",
       "    <tr style=\"text-align: right;\">\n",
       "      <th></th>\n",
       "      <th>ID</th>\n",
       "      <th>Name</th>\n",
       "      <th>Age</th>\n",
       "      <th>Salary</th>\n",
       "      <th>Department</th>\n",
       "      <th>Joining_Date</th>\n",
       "      <th>Experience_Years</th>\n",
       "    </tr>\n",
       "  </thead>\n",
       "  <tbody>\n",
       "    <tr>\n",
       "      <th>6</th>\n",
       "      <td>7</td>\n",
       "      <td>Grace</td>\n",
       "      <td>25.0</td>\n",
       "      <td>50000.0</td>\n",
       "      <td>IT</td>\n",
       "      <td>2015-07-31</td>\n",
       "      <td>6</td>\n",
       "    </tr>\n",
       "    <tr>\n",
       "      <th>12</th>\n",
       "      <td>13</td>\n",
       "      <td>Jack</td>\n",
       "      <td>40.0</td>\n",
       "      <td>50000.0</td>\n",
       "      <td>IT</td>\n",
       "      <td>2016-01-31</td>\n",
       "      <td>6</td>\n",
       "    </tr>\n",
       "    <tr>\n",
       "      <th>20</th>\n",
       "      <td>21</td>\n",
       "      <td>Eve</td>\n",
       "      <td>35.0</td>\n",
       "      <td>55000.0</td>\n",
       "      <td>IT</td>\n",
       "      <td>2016-09-30</td>\n",
       "      <td>14</td>\n",
       "    </tr>\n",
       "    <tr>\n",
       "      <th>24</th>\n",
       "      <td>25</td>\n",
       "      <td>Charlie</td>\n",
       "      <td>40.0</td>\n",
       "      <td>55000.0</td>\n",
       "      <td>IT</td>\n",
       "      <td>2017-01-31</td>\n",
       "      <td>13</td>\n",
       "    </tr>\n",
       "    <tr>\n",
       "      <th>26</th>\n",
       "      <td>27</td>\n",
       "      <td>David</td>\n",
       "      <td>30.0</td>\n",
       "      <td>65000.0</td>\n",
       "      <td>IT</td>\n",
       "      <td>2017-03-31</td>\n",
       "      <td>11</td>\n",
       "    </tr>\n",
       "    <tr>\n",
       "      <th>33</th>\n",
       "      <td>34</td>\n",
       "      <td>David</td>\n",
       "      <td>50.0</td>\n",
       "      <td>50000.0</td>\n",
       "      <td>IT</td>\n",
       "      <td>2017-10-31</td>\n",
       "      <td>7</td>\n",
       "    </tr>\n",
       "    <tr>\n",
       "      <th>39</th>\n",
       "      <td>40</td>\n",
       "      <td>Grace</td>\n",
       "      <td>35.0</td>\n",
       "      <td>55000.0</td>\n",
       "      <td>IT</td>\n",
       "      <td>2018-04-30</td>\n",
       "      <td>4</td>\n",
       "    </tr>\n",
       "    <tr>\n",
       "      <th>48</th>\n",
       "      <td>49</td>\n",
       "      <td>Grace</td>\n",
       "      <td>30.0</td>\n",
       "      <td>65000.0</td>\n",
       "      <td>IT</td>\n",
       "      <td>2019-01-31</td>\n",
       "      <td>2</td>\n",
       "    </tr>\n",
       "    <tr>\n",
       "      <th>65</th>\n",
       "      <td>66</td>\n",
       "      <td>David</td>\n",
       "      <td>50.0</td>\n",
       "      <td>50000.0</td>\n",
       "      <td>IT</td>\n",
       "      <td>2020-06-30</td>\n",
       "      <td>8</td>\n",
       "    </tr>\n",
       "    <tr>\n",
       "      <th>78</th>\n",
       "      <td>79</td>\n",
       "      <td>Helen</td>\n",
       "      <td>50.0</td>\n",
       "      <td>90000.0</td>\n",
       "      <td>IT</td>\n",
       "      <td>2021-07-31</td>\n",
       "      <td>13</td>\n",
       "    </tr>\n",
       "    <tr>\n",
       "      <th>79</th>\n",
       "      <td>80</td>\n",
       "      <td>Charlie</td>\n",
       "      <td>50.0</td>\n",
       "      <td>90000.0</td>\n",
       "      <td>IT</td>\n",
       "      <td>2021-08-31</td>\n",
       "      <td>8</td>\n",
       "    </tr>\n",
       "    <tr>\n",
       "      <th>86</th>\n",
       "      <td>87</td>\n",
       "      <td>Charlie</td>\n",
       "      <td>45.0</td>\n",
       "      <td>70000.0</td>\n",
       "      <td>IT</td>\n",
       "      <td>2022-03-31</td>\n",
       "      <td>13</td>\n",
       "    </tr>\n",
       "    <tr>\n",
       "      <th>89</th>\n",
       "      <td>90</td>\n",
       "      <td>Alice</td>\n",
       "      <td>50.0</td>\n",
       "      <td>70000.0</td>\n",
       "      <td>IT</td>\n",
       "      <td>2022-06-30</td>\n",
       "      <td>4</td>\n",
       "    </tr>\n",
       "    <tr>\n",
       "      <th>98</th>\n",
       "      <td>99</td>\n",
       "      <td>Grace</td>\n",
       "      <td>50.0</td>\n",
       "      <td>70000.0</td>\n",
       "      <td>IT</td>\n",
       "      <td>2023-03-31</td>\n",
       "      <td>12</td>\n",
       "    </tr>\n",
       "    <tr>\n",
       "      <th>99</th>\n",
       "      <td>100</td>\n",
       "      <td>Grace</td>\n",
       "      <td>50.0</td>\n",
       "      <td>72000.0</td>\n",
       "      <td>IT</td>\n",
       "      <td>2023-04-30</td>\n",
       "      <td>12</td>\n",
       "    </tr>\n",
       "  </tbody>\n",
       "</table>\n",
       "</div>"
      ],
      "text/plain": [
       "     ID     Name   Age   Salary Department Joining_Date  Experience_Years\n",
       "6     7    Grace  25.0  50000.0         IT   2015-07-31                 6\n",
       "12   13     Jack  40.0  50000.0         IT   2016-01-31                 6\n",
       "20   21      Eve  35.0  55000.0         IT   2016-09-30                14\n",
       "24   25  Charlie  40.0  55000.0         IT   2017-01-31                13\n",
       "26   27    David  30.0  65000.0         IT   2017-03-31                11\n",
       "33   34    David  50.0  50000.0         IT   2017-10-31                 7\n",
       "39   40    Grace  35.0  55000.0         IT   2018-04-30                 4\n",
       "48   49    Grace  30.0  65000.0         IT   2019-01-31                 2\n",
       "65   66    David  50.0  50000.0         IT   2020-06-30                 8\n",
       "78   79    Helen  50.0  90000.0         IT   2021-07-31                13\n",
       "79   80  Charlie  50.0  90000.0         IT   2021-08-31                 8\n",
       "86   87  Charlie  45.0  70000.0         IT   2022-03-31                13\n",
       "89   90    Alice  50.0  70000.0         IT   2022-06-30                 4\n",
       "98   99    Grace  50.0  70000.0         IT   2023-03-31                12\n",
       "99  100    Grace  50.0  72000.0         IT   2023-04-30                12"
      ]
     },
     "execution_count": 75,
     "metadata": {},
     "output_type": "execute_result"
    }
   ],
   "source": [
    "# Filter rows based on department\n",
    "df_filtered_department = df[df['Department'] == 'IT']\n",
    "df_filtered_department"
   ]
  },
  {
   "cell_type": "code",
   "execution_count": 76,
   "id": "3bb9a0e6",
   "metadata": {},
   "outputs": [
    {
     "data": {
      "text/html": [
       "<div>\n",
       "<style scoped>\n",
       "    .dataframe tbody tr th:only-of-type {\n",
       "        vertical-align: middle;\n",
       "    }\n",
       "\n",
       "    .dataframe tbody tr th {\n",
       "        vertical-align: top;\n",
       "    }\n",
       "\n",
       "    .dataframe thead th {\n",
       "        text-align: right;\n",
       "    }\n",
       "</style>\n",
       "<table border=\"1\" class=\"dataframe\">\n",
       "  <thead>\n",
       "    <tr style=\"text-align: right;\">\n",
       "      <th></th>\n",
       "      <th>ID</th>\n",
       "      <th>Name</th>\n",
       "      <th>Age</th>\n",
       "      <th>Salary</th>\n",
       "      <th>Department</th>\n",
       "      <th>Joining_Date</th>\n",
       "      <th>Experience_Years</th>\n",
       "    </tr>\n",
       "  </thead>\n",
       "  <tbody>\n",
       "    <tr>\n",
       "      <th>83</th>\n",
       "      <td>84</td>\n",
       "      <td>David</td>\n",
       "      <td>40.0</td>\n",
       "      <td>55000.0</td>\n",
       "      <td>Finance</td>\n",
       "      <td>2021-12-31</td>\n",
       "      <td>4</td>\n",
       "    </tr>\n",
       "    <tr>\n",
       "      <th>53</th>\n",
       "      <td>54</td>\n",
       "      <td>Frank</td>\n",
       "      <td>30.0</td>\n",
       "      <td>80000.0</td>\n",
       "      <td>Sales</td>\n",
       "      <td>2019-06-30</td>\n",
       "      <td>2</td>\n",
       "    </tr>\n",
       "    <tr>\n",
       "      <th>70</th>\n",
       "      <td>71</td>\n",
       "      <td>Jack</td>\n",
       "      <td>40.0</td>\n",
       "      <td>60000.0</td>\n",
       "      <td>Sales</td>\n",
       "      <td>2020-11-30</td>\n",
       "      <td>4</td>\n",
       "    </tr>\n",
       "    <tr>\n",
       "      <th>45</th>\n",
       "      <td>46</td>\n",
       "      <td>Grace</td>\n",
       "      <td>35.0</td>\n",
       "      <td>70000.0</td>\n",
       "      <td>Sales</td>\n",
       "      <td>2018-10-31</td>\n",
       "      <td>8</td>\n",
       "    </tr>\n",
       "    <tr>\n",
       "      <th>44</th>\n",
       "      <td>45</td>\n",
       "      <td>Helen</td>\n",
       "      <td>50.0</td>\n",
       "      <td>90000.0</td>\n",
       "      <td>HR</td>\n",
       "      <td>2018-09-30</td>\n",
       "      <td>3</td>\n",
       "    </tr>\n",
       "  </tbody>\n",
       "</table>\n",
       "</div>"
      ],
      "text/plain": [
       "    ID   Name   Age   Salary Department Joining_Date  Experience_Years\n",
       "83  84  David  40.0  55000.0    Finance   2021-12-31                 4\n",
       "53  54  Frank  30.0  80000.0      Sales   2019-06-30                 2\n",
       "70  71   Jack  40.0  60000.0      Sales   2020-11-30                 4\n",
       "45  46  Grace  35.0  70000.0      Sales   2018-10-31                 8\n",
       "44  45  Helen  50.0  90000.0         HR   2018-09-30                 3"
      ]
     },
     "execution_count": 76,
     "metadata": {},
     "output_type": "execute_result"
    }
   ],
   "source": [
    "df.sample(n=5, random_state=42)"
   ]
  },
  {
   "cell_type": "code",
   "execution_count": 77,
   "id": "a5b12309",
   "metadata": {},
   "outputs": [
    {
     "data": {
      "text/html": [
       "<div>\n",
       "<style scoped>\n",
       "    .dataframe tbody tr th:only-of-type {\n",
       "        vertical-align: middle;\n",
       "    }\n",
       "\n",
       "    .dataframe tbody tr th {\n",
       "        vertical-align: top;\n",
       "    }\n",
       "\n",
       "    .dataframe thead th {\n",
       "        text-align: right;\n",
       "    }\n",
       "</style>\n",
       "<table border=\"1\" class=\"dataframe\">\n",
       "  <thead>\n",
       "    <tr style=\"text-align: right;\">\n",
       "      <th></th>\n",
       "      <th>ID</th>\n",
       "      <th>Name</th>\n",
       "      <th>Age</th>\n",
       "      <th>Salary</th>\n",
       "      <th>Department</th>\n",
       "      <th>Joining_Date</th>\n",
       "      <th>Experience_Years</th>\n",
       "      <th>Salary Category</th>\n",
       "    </tr>\n",
       "  </thead>\n",
       "  <tbody>\n",
       "    <tr>\n",
       "      <th>83</th>\n",
       "      <td>84</td>\n",
       "      <td>David</td>\n",
       "      <td>40.0</td>\n",
       "      <td>55000.0</td>\n",
       "      <td>Finance</td>\n",
       "      <td>2021-12-31</td>\n",
       "      <td>4</td>\n",
       "      <td>Low</td>\n",
       "    </tr>\n",
       "    <tr>\n",
       "      <th>53</th>\n",
       "      <td>54</td>\n",
       "      <td>Frank</td>\n",
       "      <td>30.0</td>\n",
       "      <td>80000.0</td>\n",
       "      <td>Sales</td>\n",
       "      <td>2019-06-30</td>\n",
       "      <td>2</td>\n",
       "      <td>High</td>\n",
       "    </tr>\n",
       "    <tr>\n",
       "      <th>70</th>\n",
       "      <td>71</td>\n",
       "      <td>Jack</td>\n",
       "      <td>40.0</td>\n",
       "      <td>60000.0</td>\n",
       "      <td>Sales</td>\n",
       "      <td>2020-11-30</td>\n",
       "      <td>4</td>\n",
       "      <td>Low</td>\n",
       "    </tr>\n",
       "    <tr>\n",
       "      <th>45</th>\n",
       "      <td>46</td>\n",
       "      <td>Grace</td>\n",
       "      <td>35.0</td>\n",
       "      <td>70000.0</td>\n",
       "      <td>Sales</td>\n",
       "      <td>2018-10-31</td>\n",
       "      <td>8</td>\n",
       "      <td>Low</td>\n",
       "    </tr>\n",
       "    <tr>\n",
       "      <th>44</th>\n",
       "      <td>45</td>\n",
       "      <td>Helen</td>\n",
       "      <td>50.0</td>\n",
       "      <td>90000.0</td>\n",
       "      <td>HR</td>\n",
       "      <td>2018-09-30</td>\n",
       "      <td>3</td>\n",
       "      <td>High</td>\n",
       "    </tr>\n",
       "  </tbody>\n",
       "</table>\n",
       "</div>"
      ],
      "text/plain": [
       "    ID   Name   Age   Salary Department Joining_Date  Experience_Years  \\\n",
       "83  84  David  40.0  55000.0    Finance   2021-12-31                 4   \n",
       "53  54  Frank  30.0  80000.0      Sales   2019-06-30                 2   \n",
       "70  71   Jack  40.0  60000.0      Sales   2020-11-30                 4   \n",
       "45  46  Grace  35.0  70000.0      Sales   2018-10-31                 8   \n",
       "44  45  Helen  50.0  90000.0         HR   2018-09-30                 3   \n",
       "\n",
       "   Salary Category  \n",
       "83             Low  \n",
       "53            High  \n",
       "70             Low  \n",
       "45             Low  \n",
       "44            High  "
      ]
     },
     "execution_count": 77,
     "metadata": {},
     "output_type": "execute_result"
    }
   ],
   "source": [
    "def categorize_salary(salary):\n",
    "    if salary > 70000:\n",
    "        return 'High'\n",
    "    else:\n",
    "        return 'Low'\n",
    "    \n",
    "df['Salary Category'] = df['Salary'].apply(categorize_salary)\n",
    "df.sample(n=5, random_state=42)"
   ]
  },
  {
   "cell_type": "code",
   "execution_count": 78,
   "id": "37feacf4",
   "metadata": {},
   "outputs": [
    {
     "data": {
      "image/png": "[encoded data removed]",
      "text/plain": [
       "<Figure size 640x480 with 1 Axes>"
      ]
     },
     "metadata": {},
     "output_type": "display_data"
    }
   ],
   "source": [
    "import matplotlib.pyplot as plt \n",
    "import numpy as np \n",
    "\n",
    "\n",
    "X = np.arange(1,11)\n",
    "y1 = np.power(X, 2)\n",
    "y2 = np.power(X, 3)\n",
    "plt.plot(X, y1, color='blue', label='X Squared')\n",
    "plt.plot(X, y2, color='red', label='X Cubed')\n",
    "plt.title('Basic Plot')\n",
    "plt.xlabel('X')\n",
    "plt.ylabel('y')\n",
    "plt.legend()\n",
    "plt.savefig('Basic Line Plot.svg', format='svg')\n",
    "plt.show()"
   ]
  },
  {
   "cell_type": "code",
   "execution_count": 79,
   "id": "7fc8b79a",
   "metadata": {},
   "outputs": [
    {
     "data": {
      "image/png": "[encoded data removed]",
      "text/plain": [
       "<Figure size 600x400 with 1 Axes>"
      ]
     },
     "metadata": {},
     "output_type": "display_data"
    }
   ],
   "source": [
    "catgories= ['A', 'B', 'C', 'D']\n",
    "values = [23, 45, 56, 78]\n",
    "plt.figure(figsize=(6,4))\n",
    "plt.bar(catgories, values, color='blue')\n",
    "plt.show()"
   ]
  },
  {
   "cell_type": "code",
   "execution_count": 80,
   "id": "3ae8b57e",
   "metadata": {},
   "outputs": [
    {
     "data": {
      "image/png": "[encoded data removed]",
      "text/plain": [
       "<Figure size 640x480 with 1 Axes>"
      ]
     },
     "metadata": {},
     "output_type": "display_data"
    }
   ],
   "source": [
    "# Plot a histogram\n",
    "data = np.random.randn(1000)\n",
    "plt.hist(data, bins=10, color='purple', edgecolor='black')\n",
    "plt.show()"
   ]
  },
  {
   "cell_type": "code",
   "execution_count": 81,
   "id": "02a6d3ad",
   "metadata": {},
   "outputs": [
    {
     "data": {
      "image/png": "[encoded data removed]",
      "text/plain": [
       "<Figure size 640x480 with 1 Axes>"
      ]
     },
     "metadata": {},
     "output_type": "display_data"
    }
   ],
   "source": [
    "plt.scatter(X, y1)\n",
    "plt.show()"
   ]
  },
  {
   "cell_type": "code",
   "execution_count": 86,
   "id": "6d6101e3",
   "metadata": {},
   "outputs": [
    {
     "data": {
      "image/png": "[encoded data removed]",
      "text/plain": [
       "<Figure size 640x480 with 2 Axes>"
      ]
     },
     "metadata": {},
     "output_type": "display_data"
    }
   ],
   "source": [
    "# Create subplots (2 rows, 1 column)\n",
    "fig, (ax1, ax2) = plt.subplots(2,1)\n",
    "\n",
    "# Plot on the first subplot \n",
    "ax1.plot(X, y1, color='blue')\n",
    "ax1.set_title('Plot 1: y=X^2')\n",
    "\n",
    "\n",
    "# Plot on the second subplot \n",
    "ax2.plot(X, y2, color='blue')\n",
    "ax2.set_title('Plot 1: y=X^3')\n",
    "\n",
    "# Display the adjusted subplots\n",
    "plt.tight_layout() # Automatically adjusts subplot paramters\n",
    "\n",
    "plt.show()"
   ]
  },
  {
   "cell_type": "code",
   "execution_count": 88,
   "id": "d431a94b",
   "metadata": {},
   "outputs": [
    {
     "data": {
      "image/png": "[encoded data removed]",
      "text/plain": [
       "<Figure size 640x480 with 1 Axes>"
      ]
     },
     "metadata": {},
     "output_type": "display_data"
    }
   ],
   "source": [
    "# Box Plot \n",
    "data = np.random.rand(100)\n",
    "plt.boxplot(data, vert=False, patch_artist=True)\n",
    "plt.show()"
   ]
  },
  {
   "cell_type": "code",
   "execution_count": null,
   "id": "581e5e5b",
   "metadata": {},
   "outputs": [],
   "source": []
  }
 ],
 "metadata": {
  "kernelspec": {
   "display_name": "AI",
   "language": "python",
   "name": "python3"
  },
  "language_info": {
   "codemirror_mode": {
    "name": "ipython",
    "version": 3
   },
   "file_extension": ".py",
   "mimetype": "text/x-python",
   "name": "python",
   "nbconvert_exporter": "python",
   "pygments_lexer": "ipython3",
   "version": "3.12.4"
  }
 },
 "nbformat": 4,
 "nbformat_minor": 5
}
